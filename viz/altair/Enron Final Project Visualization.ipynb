{
 "cells": [
  {
   "cell_type": "markdown",
   "id": "b2927dde",
   "metadata": {},
   "source": [
    "# Final Project Exploratory Visualization\n",
    "### by Daniel Monteiro\n",
    "In our W209 final project we want to use the Enron email dataset to analyze which type of information the emails could have told us about the scandal which took place from Oct 2001 to Dec 2001 and shook the financial markets. The main question I'm focusing on is \"Who was heavily involved in the scandal?\". I will provide visualizations to try to answer this question."
   ]
  },
  {
   "cell_type": "code",
   "execution_count": 289,
   "id": "8f1a2c80",
   "metadata": {},
   "outputs": [
    {
     "data": {
      "text/plain": [
       "DataTransformerRegistry.enable('default')"
      ]
     },
     "execution_count": 289,
     "metadata": {},
     "output_type": "execute_result"
    }
   ],
   "source": [
    "!pip install nx_altair\n",
    "\n",
    "import pandas as pd\n",
    "import numpy as np\n",
    "import altair as alt\n",
    "import json\n",
    "import datetime\n",
    "import matplotlib.pyplot as plt\n",
    "import operator\n",
    "\n",
    "import nx_altair as nxa\n",
    "import networkx as nx\n",
    "\n",
    "from ast import literal_eval\n",
    "alt.data_transformers.disable_max_rows()"
   ]
  },
  {
   "cell_type": "markdown",
   "id": "959a5b8b",
   "metadata": {},
   "source": [
    "# Lists need to be recognized\n",
    "df = pd.read_csv('C:\\\\Users\\\\dmont\\\\Downloads\\\\emails_clean.csv',converters={\"X-From\": literal_eval,\n",
    "                                                                             \"X-To\": literal_eval,\n",
    "                                                                             \"X-cc\": literal_eval,\n",
    "                                                                             \"X-bcc\": literal_eval})\n",
    "# Transform object into datetime\n",
    "df.Date = pd.to_datetime(df.Date)\n",
    "df[\"date\"] = df.Date.apply(lambda x: str(x.date()))\n",
    "df.date = pd.to_datetime(df.date)\n",
    "df.day = df.Date.apply(lambda x: x.day)\n",
    "#Adjust data\n",
    "# Filter for relevant period\n",
    "df[(df.date > '2001-06-01') & (df.date < '2002-02-01')].reset_index(drop=True, inplace=True)"
   ]
  },
  {
   "cell_type": "markdown",
   "id": "f00be39d",
   "metadata": {},
   "source": [
    "# Who were the people heavily involved in the scandal?"
   ]
  },
  {
   "cell_type": "markdown",
   "id": "e5af12ac",
   "metadata": {},
   "source": [
    "## First chart: Weekly number of emails"
   ]
  },
  {
   "cell_type": "markdown",
   "id": "a652c9b8",
   "metadata": {},
   "source": [
    "# Create smaller df with aggregated data\n",
    "dates = pd.DataFrame({\"date\" : df[\"date\"].value_counts().index, \"count\" : df[\"date\"].value_counts()}).reset_index(drop=True).dropna()\n",
    "# Relevant period\n",
    "dates.date = dates.date.apply(lambda x: str(x.date())) \n",
    "dates = dates[(dates.date > '2001-07-31') & (dates.date < '2002-02-01')].reset_index(drop=True)\n",
    "# Add info about scandal\n",
    "dates[\"Period\"] = dates.date.apply(lambda x: \"Scandal\" if (x > '2001-09-20') and (x < '2001-12-01') else \"Pre-/post-scandal\")\n",
    "\n",
    "dates[\"week\"] = pd.to_datetime(dates.date).apply(lambda x: x.week)\n",
    "dates[\"count_week\"] = dates.week.apply(lambda x: dates.groupby([\"week\"]).sum().loc[x][0])\n",
    "dates.to_csv('bar_chart_email_count.csv', index=False)"
   ]
  },
  {
   "cell_type": "code",
   "execution_count": 583,
   "id": "dcae05c8",
   "metadata": {},
   "outputs": [
    {
     "data": {
      "text/html": [
       "\n",
       "<div id=\"altair-viz-2479f4d3c846486786babee6d856a2fa\"></div>\n",
       "<script type=\"text/javascript\">\n",
       "  var VEGA_DEBUG = (typeof VEGA_DEBUG == \"undefined\") ? {} : VEGA_DEBUG;\n",
       "  (function(spec, embedOpt){\n",
       "    let outputDiv = document.currentScript.previousElementSibling;\n",
       "    if (outputDiv.id !== \"altair-viz-2479f4d3c846486786babee6d856a2fa\") {\n",
       "      outputDiv = document.getElementById(\"altair-viz-2479f4d3c846486786babee6d856a2fa\");\n",
       "    }\n",
       "    const paths = {\n",
       "      \"vega\": \"https://cdn.jsdelivr.net/npm//vega@5?noext\",\n",
       "      \"vega-lib\": \"https://cdn.jsdelivr.net/npm//vega-lib?noext\",\n",
       "      \"vega-lite\": \"https://cdn.jsdelivr.net/npm//vega-lite@4.17.0?noext\",\n",
       "      \"vega-embed\": \"https://cdn.jsdelivr.net/npm//vega-embed@6?noext\",\n",
       "    };\n",
       "\n",
       "    function maybeLoadScript(lib, version) {\n",
       "      var key = `${lib.replace(\"-\", \"\")}_version`;\n",
       "      return (VEGA_DEBUG[key] == version) ?\n",
       "        Promise.resolve(paths[lib]) :\n",
       "        new Promise(function(resolve, reject) {\n",
       "          var s = document.createElement('script');\n",
       "          document.getElementsByTagName(\"head\")[0].appendChild(s);\n",
       "          s.async = true;\n",
       "          s.onload = () => {\n",
       "            VEGA_DEBUG[key] = version;\n",
       "            return resolve(paths[lib]);\n",
       "          };\n",
       "          s.onerror = () => reject(`Error loading script: ${paths[lib]}`);\n",
       "          s.src = paths[lib];\n",
       "        });\n",
       "    }\n",
       "\n",
       "    function showError(err) {\n",
       "      outputDiv.innerHTML = `<div class=\"error\" style=\"color:red;\">${err}</div>`;\n",
       "      throw err;\n",
       "    }\n",
       "\n",
       "    function displayChart(vegaEmbed) {\n",
       "      vegaEmbed(outputDiv, spec, embedOpt)\n",
       "        .catch(err => showError(`Javascript Error: ${err.message}<br>This usually means there's a typo in your chart specification. See the javascript console for the full traceback.`));\n",
       "    }\n",
       "\n",
       "    if(typeof define === \"function\" && define.amd) {\n",
       "      requirejs.config({paths});\n",
       "      require([\"vega-embed\"], displayChart, err => showError(`Error loading script: ${err.message}`));\n",
       "    } else {\n",
       "      maybeLoadScript(\"vega\", \"5\")\n",
       "        .then(() => maybeLoadScript(\"vega-lite\", \"4.17.0\"))\n",
       "        .then(() => maybeLoadScript(\"vega-embed\", \"6\"))\n",
       "        .catch(showError)\n",
       "        .then(() => displayChart(vegaEmbed));\n",
       "    }\n",
       "  })({\"config\": {\"view\": {\"continuousWidth\": 400, \"continuousHeight\": 300}, \"axis\": {\"labelFontSize\": 16, \"titleFontSize\": 16}, \"legend\": {\"labelFontSize\": 16, \"titleFontSize\": 16}, \"range\": {\"category\": {\"scheme\": \"viridis\"}}, \"title\": {\"fontSize\": 20}}, \"data\": {\"name\": \"data-6b908b7965945cc68e05ecd5848f0fcc\"}, \"mark\": \"bar\", \"encoding\": {\"color\": {\"field\": \"Period\", \"scale\": {\"scheme\": \"dark2\"}, \"type\": \"nominal\"}, \"tooltip\": [{\"field\": \"week\", \"title\": \"Week\", \"type\": \"quantitative\"}, {\"field\": \"count_week\", \"title\": \"Number of emails\", \"type\": \"quantitative\"}], \"x\": {\"axis\": {\"format\": \"%b %Y\", \"tickCount\": 12, \"title\": \"Date\"}, \"field\": \"date\", \"type\": \"temporal\"}, \"y\": {\"field\": \"count_week\", \"title\": \"Number of emails\", \"type\": \"quantitative\"}}, \"height\": 600, \"title\": \"Weekly email communication 2 months before and after the scandal took place\", \"width\": 900, \"$schema\": \"https://vega.github.io/schema/vega-lite/v4.17.0.json\", \"datasets\": {\"data-6b908b7965945cc68e05ecd5848f0fcc\": [{\"date\": \"2001-10-25\", \"count\": 2918, \"Period\": \"Scandal\", \"week\": 43, \"count_week\": 14006}, {\"date\": \"2001-10-22\", \"count\": 2866, \"Period\": \"Scandal\", \"week\": 43, \"count_week\": 14006}, {\"date\": \"2001-11-19\", \"count\": 2816, \"Period\": \"Scandal\", \"week\": 47, \"count_week\": 8328}, {\"date\": \"2001-11-26\", \"count\": 2753, \"Period\": \"Scandal\", \"week\": 48, \"count_week\": 7068}, {\"date\": \"2001-10-29\", \"count\": 2633, \"Period\": \"Scandal\", \"week\": 44, \"count_week\": 6306}, {\"date\": \"2001-10-24\", \"count\": 2587, \"Period\": \"Scandal\", \"week\": 43, \"count_week\": 14006}, {\"date\": \"2001-10-26\", \"count\": 2554, \"Period\": \"Scandal\", \"week\": 43, \"count_week\": 14006}, {\"date\": \"2001-11-27\", \"count\": 2435, \"Period\": \"Scandal\", \"week\": 48, \"count_week\": 7068}, {\"date\": \"2001-10-23\", \"count\": 2397, \"Period\": \"Scandal\", \"week\": 43, \"count_week\": 14006}, {\"date\": \"2001-11-20\", \"count\": 2379, \"Period\": \"Scandal\", \"week\": 47, \"count_week\": 8328}, {\"date\": \"2001-10-18\", \"count\": 2334, \"Period\": \"Scandal\", \"week\": 42, \"count_week\": 9542}, {\"date\": \"2002-01-30\", \"count\": 2282, \"Period\": \"Pre-/post-scandal\", \"week\": 5, \"count_week\": 5502}, {\"date\": \"2001-11-21\", \"count\": 2015, \"Period\": \"Scandal\", \"week\": 47, \"count_week\": 8328}, {\"date\": \"2001-10-19\", \"count\": 1909, \"Period\": \"Scandal\", \"week\": 42, \"count_week\": 9542}, {\"date\": \"2001-10-17\", \"count\": 1683, \"Period\": \"Scandal\", \"week\": 42, \"count_week\": 9542}, {\"date\": \"2001-10-16\", \"count\": 1667, \"Period\": \"Scandal\", \"week\": 42, \"count_week\": 9542}, {\"date\": \"2001-10-15\", \"count\": 1478, \"Period\": \"Scandal\", \"week\": 42, \"count_week\": 9542}, {\"date\": \"2001-11-16\", \"count\": 1408, \"Period\": \"Scandal\", \"week\": 46, \"count_week\": 6714}, {\"date\": \"2001-11-14\", \"count\": 1333, \"Period\": \"Scandal\", \"week\": 46, \"count_week\": 6714}, {\"date\": \"2001-11-15\", \"count\": 1283, \"Period\": \"Scandal\", \"week\": 46, \"count_week\": 6714}, {\"date\": \"2002-01-29\", \"count\": 1170, \"Period\": \"Pre-/post-scandal\", \"week\": 5, \"count_week\": 5502}, {\"date\": \"2002-01-31\", \"count\": 1154, \"Period\": \"Pre-/post-scandal\", \"week\": 5, \"count_week\": 5502}, {\"date\": \"2001-11-13\", \"count\": 1114, \"Period\": \"Scandal\", \"week\": 46, \"count_week\": 6714}, {\"date\": \"2001-11-05\", \"count\": 1029, \"Period\": \"Scandal\", \"week\": 45, \"count_week\": 4716}, {\"date\": \"2001-10-09\", \"count\": 1022, \"Period\": \"Scandal\", \"week\": 41, \"count_week\": 4930}, {\"date\": \"2002-01-22\", \"count\": 1008, \"Period\": \"Pre-/post-scandal\", \"week\": 4, \"count_week\": 4236}, {\"date\": \"2001-11-06\", \"count\": 994, \"Period\": \"Scandal\", \"week\": 45, \"count_week\": 4716}, {\"date\": \"2002-01-16\", \"count\": 992, \"Period\": \"Pre-/post-scandal\", \"week\": 3, \"count_week\": 4559}, {\"date\": \"2002-01-10\", \"count\": 984, \"Period\": \"Pre-/post-scandal\", \"week\": 2, \"count_week\": 4514}, {\"date\": \"2001-10-31\", \"count\": 965, \"Period\": \"Scandal\", \"week\": 44, \"count_week\": 6306}, {\"date\": \"2001-11-12\", \"count\": 957, \"Period\": \"Scandal\", \"week\": 46, \"count_week\": 6714}, {\"date\": \"2001-11-07\", \"count\": 955, \"Period\": \"Scandal\", \"week\": 45, \"count_week\": 4716}, {\"date\": \"2001-10-10\", \"count\": 948, \"Period\": \"Scandal\", \"week\": 41, \"count_week\": 4930}, {\"date\": \"2001-09-27\", \"count\": 939, \"Period\": \"Scandal\", \"week\": 39, \"count_week\": 3968}, {\"date\": \"2001-10-08\", \"count\": 937, \"Period\": \"Scandal\", \"week\": 41, \"count_week\": 4930}, {\"date\": \"2001-10-01\", \"count\": 928, \"Period\": \"Scandal\", \"week\": 40, \"count_week\": 4198}, {\"date\": \"2002-01-23\", \"count\": 919, \"Period\": \"Pre-/post-scandal\", \"week\": 4, \"count_week\": 4236}, {\"date\": \"2001-10-12\", \"count\": 907, \"Period\": \"Scandal\", \"week\": 41, \"count_week\": 4930}, {\"date\": \"2002-01-28\", \"count\": 896, \"Period\": \"Pre-/post-scandal\", \"week\": 5, \"count_week\": 5502}, {\"date\": \"2001-11-02\", \"count\": 881, \"Period\": \"Scandal\", \"week\": 44, \"count_week\": 6306}, {\"date\": \"2002-01-09\", \"count\": 878, \"Period\": \"Pre-/post-scandal\", \"week\": 2, \"count_week\": 4514}, {\"date\": \"2001-11-01\", \"count\": 877, \"Period\": \"Scandal\", \"week\": 44, \"count_week\": 6306}, {\"date\": \"2001-10-02\", \"count\": 870, \"Period\": \"Scandal\", \"week\": 40, \"count_week\": 4198}, {\"date\": \"2002-01-14\", \"count\": 870, \"Period\": \"Pre-/post-scandal\", \"week\": 3, \"count_week\": 4559}, {\"date\": \"2001-10-11\", \"count\": 865, \"Period\": \"Scandal\", \"week\": 41, \"count_week\": 4930}, {\"date\": \"2001-11-08\", \"count\": 848, \"Period\": \"Scandal\", \"week\": 45, \"count_week\": 4716}, {\"date\": \"2001-09-25\", \"count\": 841, \"Period\": \"Scandal\", \"week\": 39, \"count_week\": 3968}, {\"date\": \"2002-01-17\", \"count\": 833, \"Period\": \"Pre-/post-scandal\", \"week\": 3, \"count_week\": 4559}, {\"date\": \"2001-10-30\", \"count\": 824, \"Period\": \"Scandal\", \"week\": 44, \"count_week\": 6306}, {\"date\": \"2002-01-15\", \"count\": 820, \"Period\": \"Pre-/post-scandal\", \"week\": 3, \"count_week\": 4559}, {\"date\": \"2002-01-25\", \"count\": 818, \"Period\": \"Pre-/post-scandal\", \"week\": 4, \"count_week\": 4236}, {\"date\": \"2002-01-11\", \"count\": 814, \"Period\": \"Pre-/post-scandal\", \"week\": 2, \"count_week\": 4514}, {\"date\": \"2001-11-09\", \"count\": 795, \"Period\": \"Scandal\", \"week\": 45, \"count_week\": 4716}, {\"date\": \"2001-09-26\", \"count\": 788, \"Period\": \"Scandal\", \"week\": 39, \"count_week\": 3968}, {\"date\": \"2002-01-24\", \"count\": 786, \"Period\": \"Pre-/post-scandal\", \"week\": 4, \"count_week\": 4236}, {\"date\": \"2001-12-19\", \"count\": 771, \"Period\": \"Pre-/post-scandal\", \"week\": 51, \"count_week\": 3279}, {\"date\": \"2001-12-27\", \"count\": 758, \"Period\": \"Pre-/post-scandal\", \"week\": 52, \"count_week\": 2580}, {\"date\": \"2001-10-05\", \"count\": 757, \"Period\": \"Scandal\", \"week\": 40, \"count_week\": 4198}, {\"date\": \"2002-01-08\", \"count\": 745, \"Period\": \"Pre-/post-scandal\", \"week\": 2, \"count_week\": 4514}, {\"date\": \"2001-10-03\", \"count\": 744, \"Period\": \"Scandal\", \"week\": 40, \"count_week\": 4198}, {\"date\": \"2001-10-04\", \"count\": 733, \"Period\": \"Scandal\", \"week\": 40, \"count_week\": 4198}, {\"date\": \"2002-01-07\", \"count\": 730, \"Period\": \"Pre-/post-scandal\", \"week\": 2, \"count_week\": 4514}, {\"date\": \"2002-01-18\", \"count\": 729, \"Period\": \"Pre-/post-scandal\", \"week\": 3, \"count_week\": 4559}, {\"date\": \"2001-09-19\", \"count\": 685, \"Period\": \"Pre-/post-scandal\", \"week\": 38, \"count_week\": 2896}, {\"date\": \"2001-12-28\", \"count\": 672, \"Period\": \"Pre-/post-scandal\", \"week\": 52, \"count_week\": 2580}, {\"date\": \"2001-09-24\", \"count\": 657, \"Period\": \"Scandal\", \"week\": 39, \"count_week\": 3968}, {\"date\": \"2001-09-28\", \"count\": 653, \"Period\": \"Scandal\", \"week\": 39, \"count_week\": 3968}, {\"date\": \"2001-12-20\", \"count\": 651, \"Period\": \"Pre-/post-scandal\", \"week\": 51, \"count_week\": 3279}, {\"date\": \"2002-01-04\", \"count\": 638, \"Period\": \"Pre-/post-scandal\", \"week\": 1, \"count_week\": 2816}, {\"date\": \"2002-01-02\", \"count\": 627, \"Period\": \"Pre-/post-scandal\", \"week\": 1, \"count_week\": 2816}, {\"date\": \"2001-12-17\", \"count\": 627, \"Period\": \"Pre-/post-scandal\", \"week\": 51, \"count_week\": 3279}, {\"date\": \"2002-01-03\", \"count\": 599, \"Period\": \"Pre-/post-scandal\", \"week\": 1, \"count_week\": 2816}, {\"date\": \"2001-11-29\", \"count\": 596, \"Period\": \"Scandal\", \"week\": 48, \"count_week\": 7068}, {\"date\": \"2001-09-18\", \"count\": 593, \"Period\": \"Pre-/post-scandal\", \"week\": 38, \"count_week\": 2896}, {\"date\": \"2001-12-13\", \"count\": 582, \"Period\": \"Pre-/post-scandal\", \"week\": 50, \"count_week\": 2603}, {\"date\": \"2001-11-28\", \"count\": 563, \"Period\": \"Scandal\", \"week\": 48, \"count_week\": 7068}, {\"date\": \"2001-12-21\", \"count\": 551, \"Period\": \"Pre-/post-scandal\", \"week\": 51, \"count_week\": 3279}, {\"date\": \"2001-12-12\", \"count\": 549, \"Period\": \"Pre-/post-scandal\", \"week\": 50, \"count_week\": 2603}, {\"date\": \"2001-11-30\", \"count\": 548, \"Period\": \"Scandal\", \"week\": 48, \"count_week\": 7068}, {\"date\": \"2001-09-17\", \"count\": 527, \"Period\": \"Pre-/post-scandal\", \"week\": 38, \"count_week\": 2896}, {\"date\": \"2001-09-10\", \"count\": 523, \"Period\": \"Pre-/post-scandal\", \"week\": 37, \"count_week\": 2132}, {\"date\": \"2001-12-11\", \"count\": 518, \"Period\": \"Pre-/post-scandal\", \"week\": 50, \"count_week\": 2603}, {\"date\": \"2001-12-31\", \"count\": 516, \"Period\": \"Pre-/post-scandal\", \"week\": 1, \"count_week\": 2816}, {\"date\": \"2001-12-26\", \"count\": 514, \"Period\": \"Pre-/post-scandal\", \"week\": 52, \"count_week\": 2580}, {\"date\": \"2001-09-20\", \"count\": 511, \"Period\": \"Pre-/post-scandal\", \"week\": 38, \"count_week\": 2896}, {\"date\": \"2001-09-21\", \"count\": 495, \"Period\": \"Scandal\", \"week\": 38, \"count_week\": 2896}, {\"date\": \"2001-08-28\", \"count\": 495, \"Period\": \"Pre-/post-scandal\", \"week\": 35, \"count_week\": 2146}, {\"date\": \"2001-08-14\", \"count\": 482, \"Period\": \"Pre-/post-scandal\", \"week\": 33, \"count_week\": 1930}, {\"date\": \"2001-09-05\", \"count\": 470, \"Period\": \"Pre-/post-scandal\", \"week\": 36, \"count_week\": 1834}, {\"date\": \"2001-12-04\", \"count\": 468, \"Period\": \"Pre-/post-scandal\", \"week\": 49, \"count_week\": 2164}, {\"date\": \"2001-09-12\", \"count\": 467, \"Period\": \"Pre-/post-scandal\", \"week\": 37, \"count_week\": 2132}, {\"date\": \"2001-09-13\", \"count\": 460, \"Period\": \"Pre-/post-scandal\", \"week\": 37, \"count_week\": 2132}, {\"date\": \"2001-08-30\", \"count\": 457, \"Period\": \"Pre-/post-scandal\", \"week\": 35, \"count_week\": 2146}, {\"date\": \"2001-09-04\", \"count\": 450, \"Period\": \"Pre-/post-scandal\", \"week\": 36, \"count_week\": 1834}, {\"date\": \"2001-08-27\", \"count\": 438, \"Period\": \"Pre-/post-scandal\", \"week\": 35, \"count_week\": 2146}, {\"date\": \"2001-12-10\", \"count\": 432, \"Period\": \"Pre-/post-scandal\", \"week\": 50, \"count_week\": 2603}, {\"date\": \"2001-12-03\", \"count\": 432, \"Period\": \"Pre-/post-scandal\", \"week\": 49, \"count_week\": 2164}, {\"date\": \"2001-11-25\", \"count\": 432, \"Period\": \"Scandal\", \"week\": 47, \"count_week\": 8328}, {\"date\": \"2001-10-28\", \"count\": 432, \"Period\": \"Scandal\", \"week\": 43, \"count_week\": 14006}, {\"date\": \"2001-08-21\", \"count\": 420, \"Period\": \"Pre-/post-scandal\", \"week\": 34, \"count_week\": 2059}, {\"date\": \"2001-08-13\", \"count\": 420, \"Period\": \"Pre-/post-scandal\", \"week\": 33, \"count_week\": 1930}, {\"date\": \"2001-09-06\", \"count\": 419, \"Period\": \"Pre-/post-scandal\", \"week\": 36, \"count_week\": 1834}, {\"date\": \"2001-08-20\", \"count\": 418, \"Period\": \"Pre-/post-scandal\", \"week\": 34, \"count_week\": 2059}, {\"date\": \"2001-12-06\", \"count\": 407, \"Period\": \"Pre-/post-scandal\", \"week\": 49, \"count_week\": 2164}, {\"date\": \"2001-09-14\", \"count\": 404, \"Period\": \"Pre-/post-scandal\", \"week\": 37, \"count_week\": 2132}, {\"date\": \"2001-12-18\", \"count\": 401, \"Period\": \"Pre-/post-scandal\", \"week\": 51, \"count_week\": 3279}, {\"date\": \"2001-08-23\", \"count\": 401, \"Period\": \"Pre-/post-scandal\", \"week\": 34, \"count_week\": 2059}, {\"date\": \"2001-08-29\", \"count\": 400, \"Period\": \"Pre-/post-scandal\", \"week\": 35, \"count_week\": 2146}, {\"date\": \"2001-08-09\", \"count\": 393, \"Period\": \"Pre-/post-scandal\", \"week\": 32, \"count_week\": 1832}, {\"date\": \"2001-12-14\", \"count\": 390, \"Period\": \"Pre-/post-scandal\", \"week\": 50, \"count_week\": 2603}, {\"date\": \"2001-09-07\", \"count\": 381, \"Period\": \"Pre-/post-scandal\", \"week\": 36, \"count_week\": 1834}, {\"date\": \"2001-12-05\", \"count\": 375, \"Period\": \"Pre-/post-scandal\", \"week\": 49, \"count_week\": 2164}, {\"date\": \"2001-08-07\", \"count\": 374, \"Period\": \"Pre-/post-scandal\", \"week\": 32, \"count_week\": 1832}, {\"date\": \"2001-12-07\", \"count\": 373, \"Period\": \"Pre-/post-scandal\", \"week\": 49, \"count_week\": 2164}, {\"date\": \"2002-01-21\", \"count\": 365, \"Period\": \"Pre-/post-scandal\", \"week\": 4, \"count_week\": 4236}, {\"date\": \"2001-11-18\", \"count\": 364, \"Period\": \"Scandal\", \"week\": 46, \"count_week\": 6714}, {\"date\": \"2001-08-22\", \"count\": 361, \"Period\": \"Pre-/post-scandal\", \"week\": 34, \"count_week\": 2059}, {\"date\": \"2001-08-01\", \"count\": 354, \"Period\": \"Pre-/post-scandal\", \"week\": 31, \"count_week\": 962}, {\"date\": \"2001-08-06\", \"count\": 344, \"Period\": \"Pre-/post-scandal\", \"week\": 32, \"count_week\": 1832}, {\"date\": \"2001-08-24\", \"count\": 340, \"Period\": \"Pre-/post-scandal\", \"week\": 34, \"count_week\": 2059}, {\"date\": \"2001-08-15\", \"count\": 335, \"Period\": \"Pre-/post-scandal\", \"week\": 33, \"count_week\": 1930}, {\"date\": \"2001-08-16\", \"count\": 325, \"Period\": \"Pre-/post-scandal\", \"week\": 33, \"count_week\": 1930}, {\"date\": \"2001-08-31\", \"count\": 324, \"Period\": \"Pre-/post-scandal\", \"week\": 35, \"count_week\": 2146}, {\"date\": \"2001-08-10\", \"count\": 324, \"Period\": \"Pre-/post-scandal\", \"week\": 32, \"count_week\": 1832}, {\"date\": \"2001-08-02\", \"count\": 317, \"Period\": \"Pre-/post-scandal\", \"week\": 31, \"count_week\": 962}, {\"date\": \"2001-11-23\", \"count\": 306, \"Period\": \"Scandal\", \"week\": 47, \"count_week\": 8328}, {\"date\": \"2001-08-08\", \"count\": 293, \"Period\": \"Pre-/post-scandal\", \"week\": 32, \"count_week\": 1832}, {\"date\": \"2001-08-17\", \"count\": 278, \"Period\": \"Pre-/post-scandal\", \"week\": 33, \"count_week\": 1930}, {\"date\": \"2001-10-21\", \"count\": 271, \"Period\": \"Scandal\", \"week\": 42, \"count_week\": 9542}, {\"date\": \"2001-08-03\", \"count\": 261, \"Period\": \"Pre-/post-scandal\", \"week\": 31, \"count_week\": 962}, {\"date\": \"2001-11-17\", \"count\": 255, \"Period\": \"Scandal\", \"week\": 46, \"count_week\": 6714}, {\"date\": \"2001-10-27\", \"count\": 252, \"Period\": \"Scandal\", \"week\": 43, \"count_week\": 14006}, {\"date\": \"2001-11-22\", \"count\": 204, \"Period\": \"Scandal\", \"week\": 47, \"count_week\": 8328}, {\"date\": \"2001-10-20\", \"count\": 200, \"Period\": \"Scandal\", \"week\": 42, \"count_week\": 9542}, {\"date\": \"2001-12-24\", \"count\": 196, \"Period\": \"Pre-/post-scandal\", \"week\": 52, \"count_week\": 2580}, {\"date\": \"2002-01-13\", \"count\": 186, \"Period\": \"Pre-/post-scandal\", \"week\": 2, \"count_week\": 4514}, {\"date\": \"2002-01-27\", \"count\": 184, \"Period\": \"Pre-/post-scandal\", \"week\": 4, \"count_week\": 4236}, {\"date\": \"2001-09-11\", \"count\": 184, \"Period\": \"Pre-/post-scandal\", \"week\": 37, \"count_week\": 2132}, {\"date\": \"2002-01-12\", \"count\": 177, \"Period\": \"Pre-/post-scandal\", \"week\": 2, \"count_week\": 4514}, {\"date\": \"2001-11-24\", \"count\": 176, \"Period\": \"Scandal\", \"week\": 47, \"count_week\": 8328}, {\"date\": \"2002-01-20\", \"count\": 169, \"Period\": \"Pre-/post-scandal\", \"week\": 3, \"count_week\": 4559}, {\"date\": \"2002-01-01\", \"count\": 162, \"Period\": \"Pre-/post-scandal\", \"week\": 1, \"count_week\": 2816}, {\"date\": \"2001-12-29\", \"count\": 157, \"Period\": \"Pre-/post-scandal\", \"week\": 52, \"count_week\": 2580}, {\"date\": \"2002-01-26\", \"count\": 156, \"Period\": \"Pre-/post-scandal\", \"week\": 4, \"count_week\": 4236}, {\"date\": \"2001-10-14\", \"count\": 155, \"Period\": \"Scandal\", \"week\": 41, \"count_week\": 4930}, {\"date\": \"2001-12-30\", \"count\": 153, \"Period\": \"Pre-/post-scandal\", \"week\": 52, \"count_week\": 2580}, {\"date\": \"2002-01-05\", \"count\": 150, \"Period\": \"Pre-/post-scandal\", \"week\": 1, \"count_week\": 2816}, {\"date\": \"2002-01-19\", \"count\": 146, \"Period\": \"Pre-/post-scandal\", \"week\": 3, \"count_week\": 4559}, {\"date\": \"2001-12-22\", \"count\": 143, \"Period\": \"Pre-/post-scandal\", \"week\": 51, \"count_week\": 3279}, {\"date\": \"2001-12-23\", \"count\": 135, \"Period\": \"Pre-/post-scandal\", \"week\": 51, \"count_week\": 3279}, {\"date\": \"2001-12-25\", \"count\": 130, \"Period\": \"Pre-/post-scandal\", \"week\": 52, \"count_week\": 2580}, {\"date\": \"2002-01-06\", \"count\": 124, \"Period\": \"Pre-/post-scandal\", \"week\": 1, \"count_week\": 2816}, {\"date\": \"2001-12-02\", \"count\": 120, \"Period\": \"Pre-/post-scandal\", \"week\": 48, \"count_week\": 7068}, {\"date\": \"2001-10-07\", \"count\": 105, \"Period\": \"Scandal\", \"week\": 40, \"count_week\": 4198}, {\"date\": \"2001-10-13\", \"count\": 96, \"Period\": \"Scandal\", \"week\": 41, \"count_week\": 4930}, {\"date\": \"2001-08-12\", \"count\": 94, \"Period\": \"Pre-/post-scandal\", \"week\": 32, \"count_week\": 1832}, {\"date\": \"2001-08-26\", \"count\": 76, \"Period\": \"Pre-/post-scandal\", \"week\": 34, \"count_week\": 2059}, {\"date\": \"2001-12-09\", \"count\": 76, \"Period\": \"Pre-/post-scandal\", \"week\": 49, \"count_week\": 2164}, {\"date\": \"2001-12-16\", \"count\": 70, \"Period\": \"Pre-/post-scandal\", \"week\": 50, \"count_week\": 2603}, {\"date\": \"2001-11-11\", \"count\": 69, \"Period\": \"Scandal\", \"week\": 45, \"count_week\": 4716}, {\"date\": \"2001-11-04\", \"count\": 68, \"Period\": \"Scandal\", \"week\": 44, \"count_week\": 6306}, {\"date\": \"2001-09-30\", \"count\": 62, \"Period\": \"Scandal\", \"week\": 39, \"count_week\": 3968}, {\"date\": \"2001-12-15\", \"count\": 62, \"Period\": \"Pre-/post-scandal\", \"week\": 50, \"count_week\": 2603}, {\"date\": \"2001-10-06\", \"count\": 61, \"Period\": \"Scandal\", \"week\": 40, \"count_week\": 4198}, {\"date\": \"2001-11-03\", \"count\": 58, \"Period\": \"Scandal\", \"week\": 44, \"count_week\": 6306}, {\"date\": \"2001-09-23\", \"count\": 57, \"Period\": \"Scandal\", \"week\": 38, \"count_week\": 2896}, {\"date\": \"2001-08-19\", \"count\": 55, \"Period\": \"Pre-/post-scandal\", \"week\": 33, \"count_week\": 1930}, {\"date\": \"2001-12-01\", \"count\": 53, \"Period\": \"Pre-/post-scandal\", \"week\": 48, \"count_week\": 7068}, {\"date\": \"2001-09-16\", \"count\": 50, \"Period\": \"Pre-/post-scandal\", \"week\": 37, \"count_week\": 2132}, {\"date\": \"2001-09-15\", \"count\": 44, \"Period\": \"Pre-/post-scandal\", \"week\": 37, \"count_week\": 2132}, {\"date\": \"2001-09-03\", \"count\": 44, \"Period\": \"Pre-/post-scandal\", \"week\": 36, \"count_week\": 1834}, {\"date\": \"2001-09-09\", \"count\": 43, \"Period\": \"Pre-/post-scandal\", \"week\": 36, \"count_week\": 1834}, {\"date\": \"2001-08-25\", \"count\": 43, \"Period\": \"Pre-/post-scandal\", \"week\": 34, \"count_week\": 2059}, {\"date\": \"2001-08-18\", \"count\": 35, \"Period\": \"Pre-/post-scandal\", \"week\": 33, \"count_week\": 1930}, {\"date\": \"2001-12-08\", \"count\": 33, \"Period\": \"Pre-/post-scandal\", \"week\": 49, \"count_week\": 2164}, {\"date\": \"2001-09-22\", \"count\": 28, \"Period\": \"Scandal\", \"week\": 38, \"count_week\": 2896}, {\"date\": \"2001-09-29\", \"count\": 28, \"Period\": \"Scandal\", \"week\": 39, \"count_week\": 3968}, {\"date\": \"2001-09-08\", \"count\": 27, \"Period\": \"Pre-/post-scandal\", \"week\": 36, \"count_week\": 1834}, {\"date\": \"2001-11-10\", \"count\": 26, \"Period\": \"Scandal\", \"week\": 45, \"count_week\": 4716}, {\"date\": \"2001-08-05\", \"count\": 22, \"Period\": \"Pre-/post-scandal\", \"week\": 31, \"count_week\": 962}, {\"date\": \"2001-09-01\", \"count\": 18, \"Period\": \"Pre-/post-scandal\", \"week\": 35, \"count_week\": 2146}, {\"date\": \"2001-09-02\", \"count\": 14, \"Period\": \"Pre-/post-scandal\", \"week\": 35, \"count_week\": 2146}, {\"date\": \"2001-08-11\", \"count\": 10, \"Period\": \"Pre-/post-scandal\", \"week\": 32, \"count_week\": 1832}, {\"date\": \"2001-08-04\", \"count\": 8, \"Period\": \"Pre-/post-scandal\", \"week\": 31, \"count_week\": 962}]}}, {\"mode\": \"vega-lite\"});\n",
       "</script>"
      ],
      "text/plain": [
       "alt.Chart(...)"
      ]
     },
     "execution_count": 583,
     "metadata": {},
     "output_type": "execute_result"
    }
   ],
   "source": [
    "# Import data from smaller csv\n",
    "dates = pd.read_csv('bar_chart_email_count.csv')\n",
    "\n",
    "# Plot improved chart\n",
    "alt.Chart(dates, title=\"Weekly email communication 2 months before and after the scandal took place\").mark_bar().encode(\n",
    "    x = alt.X('date:T', axis = alt.Axis(title=\"Date\", format = (\"%b %Y\"), tickCount = 12)),\n",
    "    y = alt.Y('count_week:Q', title=\"Number of emails\"),\n",
    "    color=alt.Color('Period', scale=alt.Scale(scheme='dark2')),\n",
    "    tooltip=[alt.Tooltip('week', title = \"Week\"),\n",
    "             alt.Tooltip('count_week', title = 'Number of emails')]\n",
    ").properties(width=900, height=600).configure_axis(\n",
    "    labelFontSize=16,\n",
    "    titleFontSize=16).configure_range(\n",
    "    category={'scheme': 'viridis'}\n",
    ").configure_title(fontSize=20).configure_legend(\n",
    "titleFontSize=16,\n",
    "labelFontSize=16\n",
    ") "
   ]
  },
  {
   "cell_type": "markdown",
   "id": "1822feb3",
   "metadata": {},
   "source": [
    "On September 20, 2001, an article appeared in the Dallas' issue of The Wall Street Journal about the mark-to-market accounting practices which were used in the energy industry and that outsiders had no way of knowing which practices were used in the companies. A short-seller who read the article then checked Enron's latest 10-K report and found that the numbers were not adding up and that insiders were selling stocks in large amounts. By looking at the amount of emails which was sent 2 months before and after the scandal took place we are clearly able to see that email communication started to increase after the article was published. A usual amount of 2,000 emails per week was sent in August and until mid September. But as soons as the article was released and rumor had it that Enron might be involved in a accounting scandal, email communication started to grow exponentially and peaked in late October 2001 when the company announced that restatements to its financial statements for the past couple of years were necessary and that this meant that earnings would be reduced by $613 millon. After the announcement the email communication dropped again to a still high level and then peaked a second time in late November when Enron declared bankruptcy.  "
   ]
  },
  {
   "cell_type": "markdown",
   "id": "a5b16d87",
   "metadata": {},
   "source": [
    "## Second chart: Network"
   ]
  },
  {
   "cell_type": "markdown",
   "id": "9848aebf",
   "metadata": {},
   "source": [
    "# Clean dataset with correct names\n",
    "def clean_names(name_list):\n",
    "    unique_names = list(set(name_list))\n",
    "    kenneth_lay = [x for x in unique_names if \"Ken Lay\" in x]\n",
    "    jeff_skilling = [x for x in unique_names if \"Jeff Skilling\" in x]\n",
    "    andrew_fastow = [\"Andrew S Fastow\"]\n",
    "    \n",
    "    for i, name in enumerate(name_list):\n",
    "        if name in kenneth_lay:\n",
    "            name_list[i] = 'Kenneth Lay'\n",
    "        elif name in jeff_skilling:\n",
    "            name_list[i] = 'Jeffrey Skilling'\n",
    "        elif name in andrew_fastow:\n",
    "            name_list[i] = 'Andrew Fastow'\n",
    "        elif name_list[i].count('@') == 0:\n",
    "            name_list[i] = name_list[i].replace(\".\",\"\").replace('\"','')\n",
    "    return name_list\n",
    "\n",
    "# Reduce dataframe to scandal period\n",
    "df_scandal = df[(df.date > '2001-09-20') & (df.date < '2001-12-01')]\n",
    "\n",
    "# Create dataframe for network\n",
    "df_scandal[\"X-From\"] = pd.Series([item for row in df_scandal[\"X-From\"] for item in row if item])\n",
    "all_recipients = df_scandal[\"X-To\"] + df_scandal[\"X-cc\"] + df_scandal[\"X-bcc\"]\n",
    "\n",
    "to_lst = []\n",
    "from_lst = []\n",
    "\n",
    "for i, row in enumerate(all_recipients):\n",
    "    for item in row:\n",
    "        from_lst.append(df_scandal[\"X-From\"].iloc[i])\n",
    "        to_lst.append(item)\n",
    "        \n",
    "from_to = pd.DataFrame({\"from\" : from_lst, \"to\" : to_lst})\n",
    "from_to.replace(\"\", np.nan, inplace=True)\n",
    "from_to.dropna(inplace=True)\n",
    "from_to.reset_index(drop=True, inplace=True)\n",
    "from_to.loc[:,\"from\"] = clean_names(from_to.loc[:,\"from\"].reset_index(drop=True))\n",
    "from_to.loc[:,\"to\"] = clean_names(from_to.loc[:,\"to\"].reset_index(drop=True))\n",
    "from_to[\"from\"] = from_to[\"from\"].astype(str)\n",
    "from_to[\"to\"] = from_to[\"to\"].astype(str)"
   ]
  },
  {
   "cell_type": "markdown",
   "id": "dedfb7e6",
   "metadata": {},
   "source": [
    "# Count emails from author to recipient\n",
    "count_from_to = from_to.groupby([\"from\",\"to\"])[\"to\"].agg(['count']).reset_index()\n",
    "count_from_to.columns = [\"from\",\"to\",\"email_count\"]\n",
    "# Remove emails to oneself\n",
    "count_from_to = count_from_to[count_from_to[\"from\"] != count_from_to.to]\n",
    "# Join dataframes to filter out low email count\n",
    "from_to_short = pd.merge(from_to, count_from_to, on=['from','to'], how='left')\n",
    "from_to_short.dropna(inplace=True)\n",
    "from_to_short = from_to_short[from_to_short.email_count > 4]\n",
    "from_to_short.drop(columns=\"email_count\", inplace=True)\n",
    "from_to_short.reset_index(drop=True, inplace=True)\n",
    "len(from_to_short)"
   ]
  },
  {
   "cell_type": "markdown",
   "id": "f2400446",
   "metadata": {},
   "source": [
    "# Generate NX Graph\n",
    "G = nx.Graph()\n",
    "G = nx.from_pandas_edgelist(from_to_short, 'from', 'to')\n",
    "\n",
    "# Compute positions for viz.\n",
    "pos = nx.spring_layout(G, seed=4)\n",
    "\n",
    "# Name the nodes\n",
    "for i in sorted(G.nodes()):\n",
    "    G.nodes[i][\"name\"] = i\n",
    "    if i == \"Kenneth Lay\":\n",
    "        G.nodes[i][\"ken\"] = \"Yes\"\n",
    "    else:\n",
    "        G.nodes[i][\"ken\"] = \"No\"\n",
    "\n",
    "#degrees = dict(G.degree(G.nodes()))\n",
    "nx.set_node_attributes(G, degrees, 'degree')\n",
    "\n",
    "# Export graph data into gml file\n",
    "nx.write_gml(G, \"enron_network.gml\")"
   ]
  },
  {
   "cell_type": "code",
   "execution_count": 554,
   "id": "d84d906f",
   "metadata": {},
   "outputs": [
    {
     "data": {
      "text/html": [
       "\n",
       "<div id=\"altair-viz-497cf91585564e5285bba67f1ea710d3\"></div>\n",
       "<script type=\"text/javascript\">\n",
       "  var VEGA_DEBUG = (typeof VEGA_DEBUG == \"undefined\") ? {} : VEGA_DEBUG;\n",
       "  (function(spec, embedOpt){\n",
       "    let outputDiv = document.currentScript.previousElementSibling;\n",
       "    if (outputDiv.id !== \"altair-viz-497cf91585564e5285bba67f1ea710d3\") {\n",
       "      outputDiv = document.getElementById(\"altair-viz-497cf91585564e5285bba67f1ea710d3\");\n",
       "    }\n",
       "    const paths = {\n",
       "      \"vega\": \"https://cdn.jsdelivr.net/npm//vega@5?noext\",\n",
       "      \"vega-lib\": \"https://cdn.jsdelivr.net/npm//vega-lib?noext\",\n",
       "      \"vega-lite\": \"https://cdn.jsdelivr.net/npm//vega-lite@4.17.0?noext\",\n",
       "      \"vega-embed\": \"https://cdn.jsdelivr.net/npm//vega-embed@6?noext\",\n",
       "    };\n",
       "\n",
       "    function maybeLoadScript(lib, version) {\n",
       "      var key = `${lib.replace(\"-\", \"\")}_version`;\n",
       "      return (VEGA_DEBUG[key] == version) ?\n",
       "        Promise.resolve(paths[lib]) :\n",
       "        new Promise(function(resolve, reject) {\n",
       "          var s = document.createElement('script');\n",
       "          document.getElementsByTagName(\"head\")[0].appendChild(s);\n",
       "          s.async = true;\n",
       "          s.onload = () => {\n",
       "            VEGA_DEBUG[key] = version;\n",
       "            return resolve(paths[lib]);\n",
       "          };\n",
       "          s.onerror = () => reject(`Error loading script: ${paths[lib]}`);\n",
       "          s.src = paths[lib];\n",
       "        });\n",
       "    }\n",
       "\n",
       "    function showError(err) {\n",
       "      outputDiv.innerHTML = `<div class=\"error\" style=\"color:red;\">${err}</div>`;\n",
       "      throw err;\n",
       "    }\n",
       "\n",
       "    function displayChart(vegaEmbed) {\n",
       "      vegaEmbed(outputDiv, spec, embedOpt)\n",
       "        .catch(err => showError(`Javascript Error: ${err.message}<br>This usually means there's a typo in your chart specification. See the javascript console for the full traceback.`));\n",
       "    }\n",
       "\n",
       "    if(typeof define === \"function\" && define.amd) {\n",
       "      requirejs.config({paths});\n",
       "      require([\"vega-embed\"], displayChart, err => showError(`Error loading script: ${err.message}`));\n",
       "    } else {\n",
       "      maybeLoadScript(\"vega\", \"5\")\n",
       "        .then(() => maybeLoadScript(\"vega-lite\", \"4.17.0\"))\n",
       "        .then(() => maybeLoadScript(\"vega-embed\", \"6\"))\n",
       "        .catch(showError)\n",
       "        .then(() => displayChart(vegaEmbed));\n",
       "    }\n",
       "  })({\"config\": {\"view\": {\"continuousWidth\": 400, \"continuousHeight\": 300}}, \"layer\": [{\"data\": {\"name\": \"data-48ecf090c9c652cd76c5579aa3fd7bc7\"}, \"mark\": {\"type\": \"line\", \"color\": \"black\", \"opacity\": 1, \"strokeWidth\": 1}, \"encoding\": {\"detail\": {\"field\": \"edge\", \"type\": \"quantitative\"}, \"x\": {\"axis\": {\"grid\": false, \"labels\": false, \"ticks\": false, \"title\": \"\"}, \"field\": \"x\", \"type\": \"quantitative\"}, \"y\": {\"axis\": {\"grid\": false, \"labels\": false, \"ticks\": false, \"title\": \"\"}, \"field\": \"y\", \"type\": \"quantitative\"}}, \"selection\": {\"selector096\": {\"type\": \"interval\", \"bind\": \"scales\", \"encodings\": [\"x\", \"y\"]}}}, {\"data\": {\"name\": \"data-9dff496d3f53339ed61c49089200899e\"}, \"mark\": {\"type\": \"point\", \"fill\": \"red\", \"opacity\": 1, \"strokeWidth\": 1.0}, \"encoding\": {\"fill\": {\"field\": \"ken\", \"legend\": null, \"scale\": {\"scheme\": \"dark2\"}, \"type\": \"nominal\"}, \"size\": {\"field\": \"degree\", \"title\": [\"Number of nodes\"], \"type\": \"quantitative\"}, \"tooltip\": {\"field\": \"name\", \"type\": \"nominal\"}, \"x\": {\"axis\": {\"grid\": false, \"labels\": false, \"ticks\": false}, \"field\": \"x\", \"type\": \"quantitative\"}, \"y\": {\"axis\": {\"grid\": false, \"labels\": false, \"ticks\": false}, \"field\": \"y\", \"type\": \"quantitative\"}}}], \"height\": 800, \"title\": {\"text\": [\"Email communication during scandal\"], \"subtitle\": [\"Zoom-in for more details. Hover over dots for tooltips.\"], \"fontSize\": 20, \"subtitleFontSize\": 16}, \"width\": 1000, \"$schema\": \"https://vega.github.io/schema/vega-lite/v4.17.0.json\", \"datasets\": {\"data-48ecf090c9c652cd76c5579aa3fd7bc7\": [{\"pair\": [\"John Arnold\", \"Phillip K Allen\"], \"x\": 0.13417633878658103, \"y\": 0.022178370986613936, \"target\": \"Phillip K Allen\", \"source\": \"John Arnold\", \"edge\": 0}, {\"pair\": [\"John Arnold\", \"Phillip K Allen\"], \"x\": 0.19435694645944332, \"y\": 0.029061812033883812, \"target\": \"Phillip K Allen\", \"source\": \"John Arnold\", \"edge\": 0}, {\"pair\": [\"John Arnold\", \"John Lavorato\"], \"x\": 0.13417633878658103, \"y\": 0.022178370986613936, \"target\": \"John Lavorato\", \"source\": \"John Arnold\", \"edge\": 1}, {\"pair\": [\"John Arnold\", \"John Lavorato\"], \"x\": -0.04751458653034813, \"y\": -0.03436621611148615, \"target\": \"John Lavorato\", \"source\": \"John Arnold\", \"edge\": 1}, {\"pair\": [\"John Arnold\", \"William S Bradford\"], \"x\": 0.13417633878658103, \"y\": 0.022178370986613936, \"target\": \"William S Bradford\", \"source\": \"John Arnold\", \"edge\": 2}, {\"pair\": [\"John Arnold\", \"William S Bradford\"], \"x\": 0.2461354951380852, \"y\": 0.09668629897104232, \"target\": \"William S Bradford\", \"source\": \"John Arnold\", \"edge\": 2}, {\"pair\": [\"John Arnold\", \"Kenneth Thibodeaux\"], \"x\": 0.13417633878658103, \"y\": 0.022178370986613936, \"target\": \"Kenneth Thibodeaux\", \"source\": \"John Arnold\", \"edge\": 3}, {\"pair\": [\"John Arnold\", \"Kenneth Thibodeaux\"], \"x\": -0.04785074906398966, \"y\": 0.07117420422998007, \"target\": \"Kenneth Thibodeaux\", \"source\": \"John Arnold\", \"edge\": 3}, {\"pair\": [\"John Arnold\", \"Joannie Williamson\"], \"x\": 0.13417633878658103, \"y\": 0.022178370986613936, \"target\": \"Joannie Williamson\", \"source\": \"John Arnold\", \"edge\": 4}, {\"pair\": [\"John Arnold\", \"Joannie Williamson\"], \"x\": 0.21951905793813264, \"y\": -0.04090699741382715, \"target\": \"Joannie Williamson\", \"source\": \"John Arnold\", \"edge\": 4}, {\"pair\": [\"John Arnold\", \"Michael Tribolet\"], \"x\": 0.13417633878658103, \"y\": 0.022178370986613936, \"target\": \"Michael Tribolet\", \"source\": \"John Arnold\", \"edge\": 5}, {\"pair\": [\"John Arnold\", \"Michael Tribolet\"], \"x\": 0.2260720437573158, \"y\": 0.11368555723757998, \"target\": \"Michael Tribolet\", \"source\": \"John Arnold\", \"edge\": 5}, {\"pair\": [\"John Arnold\", \"Paula Rieker\"], \"x\": 0.13417633878658103, \"y\": 0.022178370986613936, \"target\": \"Paula Rieker\", \"source\": \"John Arnold\", \"edge\": 6}, {\"pair\": [\"John Arnold\", \"Paula Rieker\"], \"x\": 0.1304900568474134, \"y\": 0.09324234912491355, \"target\": \"Paula Rieker\", \"source\": \"John Arnold\", \"edge\": 6}, {\"pair\": [\"John Arnold\", \"Chip Schneider\"], \"x\": 0.13417633878658103, \"y\": 0.022178370986613936, \"target\": \"Chip Schneider\", \"source\": \"John Arnold\", \"edge\": 7}, {\"pair\": [\"John Arnold\", \"Chip Schneider\"], \"x\": 0.151273693656086, \"y\": -0.04558626917944251, \"target\": \"Chip Schneider\", \"source\": \"John Arnold\", \"edge\": 7}, {\"pair\": [\"John Arnold\", \"Kenneth Lay\"], \"x\": 0.13417633878658103, \"y\": 0.022178370986613936, \"target\": \"Kenneth Lay\", \"source\": \"John Arnold\", \"edge\": 8}, {\"pair\": [\"John Arnold\", \"Kenneth Lay\"], \"x\": -0.009966129277603857, \"y\": 0.048201710700449846, \"target\": \"Kenneth Lay\", \"source\": \"John Arnold\", \"edge\": 8}, {\"pair\": [\"John Arnold\", \"Rick Buy\"], \"x\": 0.13417633878658103, \"y\": 0.022178370986613936, \"target\": \"Rick Buy\", \"source\": \"John Arnold\", \"edge\": 9}, {\"pair\": [\"John Arnold\", \"Rick Buy\"], \"x\": 0.2041103832818954, \"y\": 0.17101191665497123, \"target\": \"Rick Buy\", \"source\": \"John Arnold\", \"edge\": 9}, {\"pair\": [\"John Arnold\", \"Larry Campbell\"], \"x\": 0.13417633878658103, \"y\": 0.022178370986613936, \"target\": \"Larry Campbell\", \"source\": \"John Arnold\", \"edge\": 10}, {\"pair\": [\"John Arnold\", \"Larry Campbell\"], \"x\": 0.2310085764897733, \"y\": 0.03539985427170436, \"target\": \"Larry Campbell\", \"source\": \"John Arnold\", \"edge\": 10}, {\"pair\": [\"John Arnold\", \"Kohn.Roger@epamail.epa.gov\"], \"x\": 0.13417633878658103, \"y\": 0.022178370986613936, \"target\": \"Kohn.Roger@epamail.epa.gov\", \"source\": \"John Arnold\", \"edge\": 11}, {\"pair\": [\"John Arnold\", \"Kohn.Roger@epamail.epa.gov\"], \"x\": 0.1861846230565847, \"y\": -0.06289741267487345, \"target\": \"Kohn.Roger@epamail.epa.gov\", \"source\": \"John Arnold\", \"edge\": 11}, {\"pair\": [\"John Arnold\", \"Scott Patti\"], \"x\": 0.13417633878658103, \"y\": 0.022178370986613936, \"target\": \"Scott Patti\", \"source\": \"John Arnold\", \"edge\": 12}, {\"pair\": [\"John Arnold\", \"Scott Patti\"], \"x\": 0.19350666993436574, \"y\": -0.01616113588991462, \"target\": \"Scott Patti\", \"source\": \"John Arnold\", \"edge\": 12}, {\"pair\": [\"John Arnold\", \"Van Wolf\"], \"x\": 0.13417633878658103, \"y\": 0.022178370986613936, \"target\": \"Van Wolf\", \"source\": \"John Arnold\", \"edge\": 13}, {\"pair\": [\"John Arnold\", \"Van Wolf\"], \"x\": 0.2360195108475067, \"y\": -0.002398479611594156, \"target\": \"Van Wolf\", \"source\": \"John Arnold\", \"edge\": 13}, {\"pair\": [\"John Arnold\", \"Jon Fields\"], \"x\": 0.13417633878658103, \"y\": 0.022178370986613936, \"target\": \"Jon Fields\", \"source\": \"John Arnold\", \"edge\": 14}, {\"pair\": [\"John Arnold\", \"Jon Fields\"], \"x\": 0.17607735489256918, \"y\": 0.07293926902434283, \"target\": \"Jon Fields\", \"source\": \"John Arnold\", \"edge\": 14}, {\"pair\": [\"John Arnold\", \"Ruth Jensen\"], \"x\": 0.13417633878658103, \"y\": 0.022178370986613936, \"target\": \"Ruth Jensen\", \"source\": \"John Arnold\", \"edge\": 15}, {\"pair\": [\"John Arnold\", \"Ruth Jensen\"], \"x\": 0.2867463953192098, \"y\": -0.06593106725926919, \"target\": \"Ruth Jensen\", \"source\": \"John Arnold\", \"edge\": 15}, {\"pair\": [\"John Arnold\", \"Tamara Jae Black\"], \"x\": 0.13417633878658103, \"y\": 0.022178370986613936, \"target\": \"Tamara Jae Black\", \"source\": \"John Arnold\", \"edge\": 16}, {\"pair\": [\"John Arnold\", \"Tamara Jae Black\"], \"x\": 0.014627970072258651, \"y\": -0.06398740839407101, \"target\": \"Tamara Jae Black\", \"source\": \"John Arnold\", \"edge\": 16}, {\"pair\": [\"John Lavorato\", \"Michelle Cash\"], \"x\": -0.04751458653034813, \"y\": -0.03436621611148615, \"target\": \"Michelle Cash\", \"source\": \"John Lavorato\", \"edge\": 17}, {\"pair\": [\"John Lavorato\", \"Michelle Cash\"], \"x\": -0.1227732476423979, \"y\": -0.13075345297312227, \"target\": \"Michelle Cash\", \"source\": \"John Lavorato\", \"edge\": 17}, {\"pair\": [\"John Lavorato\", \"Michelle Nelson\"], \"x\": -0.04751458653034813, \"y\": -0.03436621611148615, \"target\": \"Michelle Nelson\", \"source\": \"John Lavorato\", \"edge\": 18}, {\"pair\": [\"John Lavorato\", \"Michelle Nelson\"], \"x\": 0.04611714508573733, \"y\": -0.1871022325954331, \"target\": \"Michelle Nelson\", \"source\": \"John Lavorato\", \"edge\": 18}, {\"pair\": [\"John Lavorato\", \"Jeff Dasovich\"], \"x\": -0.04751458653034813, \"y\": -0.03436621611148615, \"target\": \"Jeff Dasovich\", \"source\": \"John Lavorato\", \"edge\": 19}, {\"pair\": [\"John Lavorato\", \"Jeff Dasovich\"], \"x\": -0.23271633718038373, \"y\": 0.1012950447661095, \"target\": \"Jeff Dasovich\", \"source\": \"John Lavorato\", \"edge\": 19}, {\"pair\": [\"William S Bradford\", \"Kay Mann\"], \"x\": 0.2461354951380852, \"y\": 0.09668629897104232, \"target\": \"Kay Mann\", \"source\": \"William S Bradford\", \"edge\": 20}, {\"pair\": [\"William S Bradford\", \"Kay Mann\"], \"x\": 0.30379586248638174, \"y\": 0.17983979634000638, \"target\": \"Kay Mann\", \"source\": \"William S Bradford\", \"edge\": 20}, {\"pair\": [\"Kenneth Thibodeaux\", \"Jeff Dasovich\"], \"x\": -0.04785074906398966, \"y\": 0.07117420422998007, \"target\": \"Jeff Dasovich\", \"source\": \"Kenneth Thibodeaux\", \"edge\": 21}, {\"pair\": [\"Kenneth Thibodeaux\", \"Jeff Dasovich\"], \"x\": -0.23271633718038373, \"y\": 0.1012950447661095, \"target\": \"Jeff Dasovich\", \"source\": \"Kenneth Thibodeaux\", \"edge\": 21}, {\"pair\": [\"Michael Tribolet\", \"Kay Mann\"], \"x\": 0.2260720437573158, \"y\": 0.11368555723757998, \"target\": \"Kay Mann\", \"source\": \"Michael Tribolet\", \"edge\": 22}, {\"pair\": [\"Michael Tribolet\", \"Kay Mann\"], \"x\": 0.30379586248638174, \"y\": 0.17983979634000638, \"target\": \"Kay Mann\", \"source\": \"Michael Tribolet\", \"edge\": 22}, {\"pair\": [\"Kenneth Lay\", \"Rick Buy\"], \"x\": -0.009966129277603857, \"y\": 0.048201710700449846, \"target\": \"Rick Buy\", \"source\": \"Kenneth Lay\", \"edge\": 23}, {\"pair\": [\"Kenneth Lay\", \"Rick Buy\"], \"x\": 0.2041103832818954, \"y\": 0.17101191665497123, \"target\": \"Rick Buy\", \"source\": \"Kenneth Lay\", \"edge\": 23}, {\"pair\": [\"Kenneth Lay\", \"Michelle Cash\"], \"x\": -0.009966129277603857, \"y\": 0.048201710700449846, \"target\": \"Michelle Cash\", \"source\": \"Kenneth Lay\", \"edge\": 24}, {\"pair\": [\"Kenneth Lay\", \"Michelle Cash\"], \"x\": -0.1227732476423979, \"y\": -0.13075345297312227, \"target\": \"Michelle Cash\", \"source\": \"Kenneth Lay\", \"edge\": 24}, {\"pair\": [\"Kenneth Lay\", \"Jeff Dasovich\"], \"x\": -0.009966129277603857, \"y\": 0.048201710700449846, \"target\": \"Jeff Dasovich\", \"source\": \"Kenneth Lay\", \"edge\": 25}, {\"pair\": [\"Kenneth Lay\", \"Jeff Dasovich\"], \"x\": -0.23271633718038373, \"y\": 0.1012950447661095, \"target\": \"Jeff Dasovich\", \"source\": \"Kenneth Lay\", \"edge\": 25}, {\"pair\": [\"Rick Buy\", \"Kay Mann\"], \"x\": 0.2041103832818954, \"y\": 0.17101191665497123, \"target\": \"Kay Mann\", \"source\": \"Rick Buy\", \"edge\": 26}, {\"pair\": [\"Rick Buy\", \"Kay Mann\"], \"x\": 0.30379586248638174, \"y\": 0.17983979634000638, \"target\": \"Kay Mann\", \"source\": \"Rick Buy\", \"edge\": 26}, {\"pair\": [\"Rick Buy\", \"Carlos Sole III\"], \"x\": 0.2041103832818954, \"y\": 0.17101191665497123, \"target\": \"Carlos Sole III\", \"source\": \"Rick Buy\", \"edge\": 27}, {\"pair\": [\"Rick Buy\", \"Carlos Sole III\"], \"x\": 0.2174914488061865, \"y\": 0.2699959346233151, \"target\": \"Carlos Sole III\", \"source\": \"Rick Buy\", \"edge\": 27}, {\"pair\": [\"Rick Buy\", \"Ben Jacoby\"], \"x\": 0.2041103832818954, \"y\": 0.17101191665497123, \"target\": \"Ben Jacoby\", \"source\": \"Rick Buy\", \"edge\": 28}, {\"pair\": [\"Rick Buy\", \"Ben Jacoby\"], \"x\": 0.2437982103634577, \"y\": 0.24564656739719617, \"target\": \"Ben Jacoby\", \"source\": \"Rick Buy\", \"edge\": 28}, {\"pair\": [\"Rick Buy\", \"Thomas A Martin\"], \"x\": 0.2041103832818954, \"y\": 0.17101191665497123, \"target\": \"Thomas A Martin\", \"source\": \"Rick Buy\", \"edge\": 29}, {\"pair\": [\"Rick Buy\", \"Thomas A Martin\"], \"x\": 0.3256752080830634, \"y\": 0.22092444439335884, \"target\": \"Thomas A Martin\", \"source\": \"Rick Buy\", \"edge\": 29}, {\"pair\": [\"Rick Buy\", \"IntercontinentalExchange\"], \"x\": 0.2041103832818954, \"y\": 0.17101191665497123, \"target\": \"IntercontinentalExchange\", \"source\": \"Rick Buy\", \"edge\": 30}, {\"pair\": [\"Rick Buy\", \"IntercontinentalExchange\"], \"x\": 0.38078703417937637, \"y\": 0.26592302012322366, \"target\": \"IntercontinentalExchange\", \"source\": \"Rick Buy\", \"edge\": 30}, {\"pair\": [\"Rick Buy\", \"Julie Armstrong\"], \"x\": 0.2041103832818954, \"y\": 0.17101191665497123, \"target\": \"Julie Armstrong\", \"source\": \"Rick Buy\", \"edge\": 31}, {\"pair\": [\"Rick Buy\", \"Julie Armstrong\"], \"x\": 0.1840736691155023, \"y\": 0.2576704375700611, \"target\": \"Julie Armstrong\", \"source\": \"Rick Buy\", \"edge\": 31}, {\"pair\": [\"Ruth Jensen\", \"Kevin M Presto\"], \"x\": 0.2867463953192098, \"y\": -0.06593106725926919, \"target\": \"Kevin M Presto\", \"source\": \"Ruth Jensen\", \"edge\": 32}, {\"pair\": [\"Ruth Jensen\", \"Kevin M Presto\"], \"x\": 0.4076931497272412, \"y\": -0.13247881221006888, \"target\": \"Kevin M Presto\", \"source\": \"Ruth Jensen\", \"edge\": 32}, {\"pair\": [\"Tamara Jae Black\", \"Michelle Cash\"], \"x\": 0.014627970072258651, \"y\": -0.06398740839407101, \"target\": \"Michelle Cash\", \"source\": \"Tamara Jae Black\", \"edge\": 33}, {\"pair\": [\"Tamara Jae Black\", \"Michelle Cash\"], \"x\": -0.1227732476423979, \"y\": -0.13075345297312227, \"target\": \"Michelle Cash\", \"source\": \"Tamara Jae Black\", \"edge\": 33}, {\"pair\": [\"Lizzette Palmer\", \"Ward\"], \"x\": -0.9499340692065802, \"y\": 0.676419520921559, \"target\": \"Ward\", \"source\": \"Lizzette Palmer\", \"edge\": 34}, {\"pair\": [\"Lizzette Palmer\", \"Ward\"], \"x\": -0.9838640941001581, \"y\": 0.7296664790496671, \"target\": \"Ward\", \"source\": \"Lizzette Palmer\", \"edge\": 34}, {\"pair\": [\"Lizzette Palmer\", \"Kim S (Houston)\"], \"x\": -0.9499340692065802, \"y\": 0.676419520921559, \"target\": \"Kim S (Houston)\", \"source\": \"Lizzette Palmer\", \"edge\": 35}, {\"pair\": [\"Lizzette Palmer\", \"Kim S (Houston)\"], \"x\": -0.9999999999999999, \"y\": 0.6642908881189739, \"target\": \"Kim S (Houston)\", \"source\": \"Lizzette Palmer\", \"edge\": 35}, {\"pair\": [\"Michelle Cash\", \"Corporate Benefits@ENRON\"], \"x\": -0.1227732476423979, \"y\": -0.13075345297312227, \"target\": \"Corporate Benefits@ENRON\", \"source\": \"Michelle Cash\", \"edge\": 36}, {\"pair\": [\"Michelle Cash\", \"Corporate Benefits@ENRON\"], \"x\": -0.18838453861032547, \"y\": -0.018567748048718385, \"target\": \"Corporate Benefits@ENRON\", \"source\": \"Michelle Cash\", \"edge\": 36}, {\"pair\": [\"Michelle Cash\", \"market_relations@nyiso.com\"], \"x\": -0.1227732476423979, \"y\": -0.13075345297312227, \"target\": \"market_relations@nyiso.com\", \"source\": \"Michelle Cash\", \"edge\": 37}, {\"pair\": [\"Michelle Cash\", \"market_relations@nyiso.com\"], \"x\": -0.19807502572900498, \"y\": -0.29581847471522854, \"target\": \"market_relations@nyiso.com\", \"source\": \"Michelle Cash\", \"edge\": 37}, {\"pair\": [\"Michelle Cash\", \"CGoering@nyiso.com\"], \"x\": -0.1227732476423979, \"y\": -0.13075345297312227, \"target\": \"CGoering@nyiso.com\", \"source\": \"Michelle Cash\", \"edge\": 38}, {\"pair\": [\"Michelle Cash\", \"CGoering@nyiso.com\"], \"x\": -0.12910155887125227, \"y\": -0.22995116160124746, \"target\": \"CGoering@nyiso.com\", \"source\": \"Michelle Cash\", \"edge\": 38}, {\"pair\": [\"Michelle Cash\", \"Stacey Bolton\"], \"x\": -0.1227732476423979, \"y\": -0.13075345297312227, \"target\": \"Stacey Bolton\", \"source\": \"Michelle Cash\", \"edge\": 39}, {\"pair\": [\"Michelle Cash\", \"Stacey Bolton\"], \"x\": -0.1729313182285885, \"y\": -0.2061330767662719, \"target\": \"Stacey Bolton\", \"source\": \"Michelle Cash\", \"edge\": 39}, {\"pair\": [\"Michelle Cash\", \"Narsimha Misra\"], \"x\": -0.1227732476423979, \"y\": -0.13075345297312227, \"target\": \"Narsimha Misra\", \"source\": \"Michelle Cash\", \"edge\": 40}, {\"pair\": [\"Michelle Cash\", \"Narsimha Misra\"], \"x\": -0.0840436774096857, \"y\": -0.11131037762716942, \"target\": \"Narsimha Misra\", \"source\": \"Michelle Cash\", \"edge\": 40}, {\"pair\": [\"Michelle Cash\", \"Richard Ring\"], \"x\": -0.1227732476423979, \"y\": -0.13075345297312227, \"target\": \"Richard Ring\", \"source\": \"Michelle Cash\", \"edge\": 41}, {\"pair\": [\"Michelle Cash\", \"Richard Ring\"], \"x\": -0.10677914072035583, \"y\": -0.25421717364822805, \"target\": \"Richard Ring\", \"source\": \"Michelle Cash\", \"edge\": 41}, {\"pair\": [\"Michelle Cash\", \"The Motley Fool\"], \"x\": -0.1227732476423979, \"y\": -0.13075345297312227, \"target\": \"The Motley Fool\", \"source\": \"Michelle Cash\", \"edge\": 42}, {\"pair\": [\"Michelle Cash\", \"The Motley Fool\"], \"x\": -0.1550350014174366, \"y\": -0.2512457362307091, \"target\": \"The Motley Fool\", \"source\": \"Michelle Cash\", \"edge\": 42}, {\"pair\": [\"Michelle Cash\", \"Enron Change Management Announcement@ENRON\"], \"x\": -0.1227732476423979, \"y\": -0.13075345297312227, \"target\": \"Enron Change Management Announcement@ENRON\", \"source\": \"Michelle Cash\", \"edge\": 43}, {\"pair\": [\"Michelle Cash\", \"Enron Change Management Announcement@ENRON\"], \"x\": -0.19203421646385885, \"y\": 0.09619909164095242, \"target\": \"Enron Change Management Announcement@ENRON\", \"source\": \"Michelle Cash\", \"edge\": 43}, {\"pair\": [\"Michelle Cash\", \"Jaime Gualy\"], \"x\": -0.1227732476423979, \"y\": -0.13075345297312227, \"target\": \"Jaime Gualy\", \"source\": \"Michelle Cash\", \"edge\": 44}, {\"pair\": [\"Michelle Cash\", \"Jaime Gualy\"], \"x\": -0.14933689459498897, \"y\": -0.18281228383629342, \"target\": \"Jaime Gualy\", \"source\": \"Michelle Cash\", \"edge\": 44}, {\"pair\": [\"Michelle Cash\", \"Activecom\"], \"x\": -0.1227732476423979, \"y\": -0.13075345297312227, \"target\": \"Activecom\", \"source\": \"Michelle Cash\", \"edge\": 45}, {\"pair\": [\"Michelle Cash\", \"Activecom\"], \"x\": -0.07346071007713509, \"y\": -0.2275413223731924, \"target\": \"Activecom\", \"source\": \"Michelle Cash\", \"edge\": 45}, {\"pair\": [\"Michelle Cash\", \"Benjamin Rogers\"], \"x\": -0.1227732476423979, \"y\": -0.13075345297312227, \"target\": \"Benjamin Rogers\", \"source\": \"Michelle Cash\", \"edge\": 46}, {\"pair\": [\"Michelle Cash\", \"Benjamin Rogers\"], \"x\": -0.2057864374683497, \"y\": -0.13201734946272448, \"target\": \"Benjamin Rogers\", \"source\": \"Michelle Cash\", \"edge\": 46}, {\"pair\": [\"Michelle Cash\", \"Expedia Fare Tracker\"], \"x\": -0.1227732476423979, \"y\": -0.13075345297312227, \"target\": \"Expedia Fare Tracker\", \"source\": \"Michelle Cash\", \"edge\": 47}, {\"pair\": [\"Michelle Cash\", \"Expedia Fare Tracker\"], \"x\": -0.05410343970547091, \"y\": -0.15581111356508576, \"target\": \"Expedia Fare Tracker\", \"source\": \"Michelle Cash\", \"edge\": 47}, {\"pair\": [\"Michelle Cash\", \"Jad Doan\"], \"x\": -0.1227732476423979, \"y\": -0.13075345297312227, \"target\": \"Jad Doan\", \"source\": \"Michelle Cash\", \"edge\": 48}, {\"pair\": [\"Michelle Cash\", \"Jad Doan\"], \"x\": -0.20174106667734035, \"y\": -0.21466900514972845, \"target\": \"Jad Doan\", \"source\": \"Michelle Cash\", \"edge\": 48}, {\"pair\": [\"Michelle Cash\", \"Career Management Center\"], \"x\": -0.1227732476423979, \"y\": -0.13075345297312227, \"target\": \"Career Management Center\", \"source\": \"Michelle Cash\", \"edge\": 49}, {\"pair\": [\"Michelle Cash\", \"Career Management Center\"], \"x\": -0.20599281940690922, \"y\": -0.16751845020229142, \"target\": \"Career Management Center\", \"source\": \"Michelle Cash\", \"edge\": 49}, {\"pair\": [\"Michelle Cash\", \"Irena D Hogan\"], \"x\": -0.1227732476423979, \"y\": -0.13075345297312227, \"target\": \"Irena D Hogan\", \"source\": \"Michelle Cash\", \"edge\": 50}, {\"pair\": [\"Michelle Cash\", \"Irena D Hogan\"], \"x\": -0.09648061542972823, \"y\": -0.1949291534836547, \"target\": \"Irena D Hogan\", \"source\": \"Michelle Cash\", \"edge\": 50}, {\"pair\": [\"Michelle Cash\", \"Sladana-Anna Kulic\"], \"x\": -0.1227732476423979, \"y\": -0.13075345297312227, \"target\": \"Sladana-Anna Kulic\", \"source\": \"Michelle Cash\", \"edge\": 51}, {\"pair\": [\"Michelle Cash\", \"Sladana-Anna Kulic\"], \"x\": -0.05139270004150194, \"y\": -0.19471611169071992, \"target\": \"Sladana-Anna Kulic\", \"source\": \"Michelle Cash\", \"edge\": 51}, {\"pair\": [\"Shelley Corman\", \"Karen Buckley\"], \"x\": -0.09955360601665153, \"y\": -0.40976044201047174, \"target\": \"Karen Buckley\", \"source\": \"Shelley Corman\", \"edge\": 52}, {\"pair\": [\"Shelley Corman\", \"Karen Buckley\"], \"x\": -0.09532026187362692, \"y\": -0.5079217201353108, \"target\": \"Karen Buckley\", \"source\": \"Shelley Corman\", \"edge\": 52}, {\"pair\": [\"Shelley Corman\", \"Iris Mack\"], \"x\": -0.09955360601665153, \"y\": -0.40976044201047174, \"target\": \"Iris Mack\", \"source\": \"Shelley Corman\", \"edge\": 53}, {\"pair\": [\"Shelley Corman\", \"Iris Mack\"], \"x\": -0.011530079330679288, \"y\": -0.42735404652239445, \"target\": \"Iris Mack\", \"source\": \"Shelley Corman\", \"edge\": 53}, {\"pair\": [\"Shelley Corman\", \"Matthew Lenhart\"], \"x\": -0.09955360601665153, \"y\": -0.40976044201047174, \"target\": \"Matthew Lenhart\", \"source\": \"Shelley Corman\", \"edge\": 54}, {\"pair\": [\"Shelley Corman\", \"Matthew Lenhart\"], \"x\": -0.27454823583364435, \"y\": -0.34331286838794145, \"target\": \"Matthew Lenhart\", \"source\": \"Shelley Corman\", \"edge\": 54}, {\"pair\": [\"Shelley Corman\", \"CommissionerCOM\"], \"x\": -0.09955360601665153, \"y\": -0.40976044201047174, \"target\": \"CommissionerCOM\", \"source\": \"Shelley Corman\", \"edge\": 55}, {\"pair\": [\"Shelley Corman\", \"CommissionerCOM\"], \"x\": -0.23749868376246785, \"y\": -0.3569347973060981, \"target\": \"CommissionerCOM\", \"source\": \"Shelley Corman\", \"edge\": 55}, {\"pair\": [\"Shelley Corman\", \"Diana Scholtes\"], \"x\": -0.09955360601665153, \"y\": -0.40976044201047174, \"target\": \"Diana Scholtes\", \"source\": \"Shelley Corman\", \"edge\": 56}, {\"pair\": [\"Shelley Corman\", \"Diana Scholtes\"], \"x\": 0.0363845798700714, \"y\": -0.46793855488919744, \"target\": \"Diana Scholtes\", \"source\": \"Shelley Corman\", \"edge\": 56}, {\"pair\": [\"Shelley Corman\", \"Jerry Graves\"], \"x\": -0.09955360601665153, \"y\": -0.40976044201047174, \"target\": \"Jerry Graves\", \"source\": \"Shelley Corman\", \"edge\": 57}, {\"pair\": [\"Shelley Corman\", \"Jerry Graves\"], \"x\": -0.028359756960832323, \"y\": -0.46500092496385037, \"target\": \"Jerry Graves\", \"source\": \"Shelley Corman\", \"edge\": 57}, {\"pair\": [\"Shelley Corman\", \"Darrell Schoolcraft\"], \"x\": -0.09955360601665153, \"y\": -0.40976044201047174, \"target\": \"Darrell Schoolcraft\", \"source\": \"Shelley Corman\", \"edge\": 58}, {\"pair\": [\"Shelley Corman\", \"Darrell Schoolcraft\"], \"x\": -0.0544238512487007, \"y\": -0.4939854549622472, \"target\": \"Darrell Schoolcraft\", \"source\": \"Shelley Corman\", \"edge\": 58}, {\"pair\": [\"Pete Davis\", \"Eric Bass\"], \"x\": 0.9205520813860111, \"y\": -0.6775719567200427, \"target\": \"Eric Bass\", \"source\": \"Pete Davis\", \"edge\": 59}, {\"pair\": [\"Pete Davis\", \"Eric Bass\"], \"x\": 0.8816036900265649, \"y\": -0.7280321839025139, \"target\": \"Eric Bass\", \"source\": \"Pete Davis\", \"edge\": 59}, {\"pair\": [\"Pete Davis\", \"Eric Saibi\"], \"x\": 0.9205520813860111, \"y\": -0.6775719567200427, \"target\": \"Eric Saibi\", \"source\": \"Pete Davis\", \"edge\": 60}, {\"pair\": [\"Pete Davis\", \"Eric Saibi\"], \"x\": 0.9356627032985834, \"y\": -0.6237083219533683, \"target\": \"Eric Saibi\", \"source\": \"Pete Davis\", \"edge\": 60}, {\"pair\": [\"Eric Bass\", \"TruOrange@aol.com@ENRON\"], \"x\": 0.8816036900265649, \"y\": -0.7280321839025139, \"target\": \"TruOrange@aol.com@ENRON\", \"source\": \"Eric Bass\", \"edge\": 61}, {\"pair\": [\"Eric Bass\", \"TruOrange@aol.com@ENRON\"], \"x\": 0.8267317036534563, \"y\": -0.7389448468491471, \"target\": \"TruOrange@aol.com@ENRON\", \"source\": \"Eric Bass\", \"edge\": 61}, {\"pair\": [\"Eric Bass\", \"Craig Dean\"], \"x\": 0.8816036900265649, \"y\": -0.7280321839025139, \"target\": \"Craig Dean\", \"source\": \"Eric Bass\", \"edge\": 62}, {\"pair\": [\"Eric Bass\", \"Craig Dean\"], \"x\": 0.9213691103846695, \"y\": -0.7815094321004216, \"target\": \"Craig Dean\", \"source\": \"Eric Bass\", \"edge\": 62}, {\"pair\": [\"Stanley Horton\", \"Sally Beck\"], \"x\": 0.5946316736862565, \"y\": 0.2785304056295319, \"target\": \"Sally Beck\", \"source\": \"Stanley Horton\", \"edge\": 63}, {\"pair\": [\"Stanley Horton\", \"Sally Beck\"], \"x\": 0.5484421136002444, \"y\": 0.34602791571524544, \"target\": \"Sally Beck\", \"source\": \"Stanley Horton\", \"edge\": 63}, {\"pair\": [\"Stanley Horton\", \"Chris Abel\"], \"x\": 0.5946316736862565, \"y\": 0.2785304056295319, \"target\": \"Chris Abel\", \"source\": \"Stanley Horton\", \"edge\": 64}, {\"pair\": [\"Stanley Horton\", \"Chris Abel\"], \"x\": 0.43523910973877594, \"y\": 0.2345025194232334, \"target\": \"Chris Abel\", \"source\": \"Stanley Horton\", \"edge\": 64}, {\"pair\": [\"Stanley Horton\", \"Mark Pickering\"], \"x\": 0.5946316736862565, \"y\": 0.2785304056295319, \"target\": \"Mark Pickering\", \"source\": \"Stanley Horton\", \"edge\": 65}, {\"pair\": [\"Stanley Horton\", \"Mark Pickering\"], \"x\": 0.6897182654292654, \"y\": 0.31059654109382806, \"target\": \"Mark Pickering\", \"source\": \"Stanley Horton\", \"edge\": 65}, {\"pair\": [\"Stanley Horton\", \"Greg Piper\"], \"x\": 0.5946316736862565, \"y\": 0.2785304056295319, \"target\": \"Greg Piper\", \"source\": \"Stanley Horton\", \"edge\": 66}, {\"pair\": [\"Stanley Horton\", \"Greg Piper\"], \"x\": 0.707829629877865, \"y\": 0.2573699434315285, \"target\": \"Greg Piper\", \"source\": \"Stanley Horton\", \"edge\": 66}, {\"pair\": [\"Sally Beck\", \"IntercontinentalExchange\"], \"x\": 0.5484421136002444, \"y\": 0.34602791571524544, \"target\": \"IntercontinentalExchange\", \"source\": \"Sally Beck\", \"edge\": 67}, {\"pair\": [\"Sally Beck\", \"IntercontinentalExchange\"], \"x\": 0.38078703417937637, \"y\": 0.26592302012322366, \"target\": \"IntercontinentalExchange\", \"source\": \"Sally Beck\", \"edge\": 67}, {\"pair\": [\"Sally Beck\", \"Victor Lamadrid\"], \"x\": 0.5484421136002444, \"y\": 0.34602791571524544, \"target\": \"Victor Lamadrid\", \"source\": \"Sally Beck\", \"edge\": 68}, {\"pair\": [\"Sally Beck\", \"Victor Lamadrid\"], \"x\": 0.6347319985229821, \"y\": 0.3888262049629936, \"target\": \"Victor Lamadrid\", \"source\": \"Sally Beck\", \"edge\": 68}, {\"pair\": [\"Sally Beck\", \"Internet Mail Delivery\"], \"x\": 0.5484421136002444, \"y\": 0.34602791571524544, \"target\": \"Internet Mail Delivery\", \"source\": \"Sally Beck\", \"edge\": 69}, {\"pair\": [\"Sally Beck\", \"Internet Mail Delivery\"], \"x\": 0.533375834119346, \"y\": 0.41986973583892057, \"target\": \"Internet Mail Delivery\", \"source\": \"Sally Beck\", \"edge\": 69}, {\"pair\": [\"Sally Beck\", \"Sivy on Stocks\"], \"x\": 0.5484421136002444, \"y\": 0.34602791571524544, \"target\": \"Sivy on Stocks\", \"source\": \"Sally Beck\", \"edge\": 70}, {\"pair\": [\"Sally Beck\", \"Sivy on Stocks\"], \"x\": 0.5785366615344383, \"y\": 0.264792120275877, \"target\": \"Sivy on Stocks\", \"source\": \"Sally Beck\", \"edge\": 70}, {\"pair\": [\"Sally Beck\", \"soblander@carrfut.com@ENRON\"], \"x\": 0.5484421136002444, \"y\": 0.34602791571524544, \"target\": \"soblander@carrfut.com@ENRON\", \"source\": \"Sally Beck\", \"edge\": 71}, {\"pair\": [\"Sally Beck\", \"soblander@carrfut.com@ENRON\"], \"x\": 0.5161669312043499, \"y\": 0.3877992572777974, \"target\": \"soblander@carrfut.com@ENRON\", \"source\": \"Sally Beck\", \"edge\": 71}, {\"pair\": [\"Sally Beck\", \"System Administrator\"], \"x\": 0.5484421136002444, \"y\": 0.34602791571524544, \"target\": \"System Administrator\", \"source\": \"Sally Beck\", \"edge\": 72}, {\"pair\": [\"Sally Beck\", \"System Administrator\"], \"x\": 0.5944790344362716, \"y\": 0.43898827766256493, \"target\": \"System Administrator\", \"source\": \"Sally Beck\", \"edge\": 72}, {\"pair\": [\"Sally Beck\", \"RealMoneycom\"], \"x\": 0.5484421136002444, \"y\": 0.34602791571524544, \"target\": \"RealMoneycom\", \"source\": \"Sally Beck\", \"edge\": 73}, {\"pair\": [\"Sally Beck\", \"RealMoneycom\"], \"x\": 0.5520001522895849, \"y\": 0.29902182005672856, \"target\": \"RealMoneycom\", \"source\": \"Sally Beck\", \"edge\": 73}, {\"pair\": [\"Sally Beck\", \"liane_kucher@platts.com@ENRON\"], \"x\": 0.5484421136002444, \"y\": 0.34602791571524544, \"target\": \"liane_kucher@platts.com@ENRON\", \"source\": \"Sally Beck\", \"edge\": 74}, {\"pair\": [\"Sally Beck\", \"liane_kucher@platts.com@ENRON\"], \"x\": 0.6227730495155442, \"y\": 0.32780594319483725, \"target\": \"liane_kucher@platts.com@ENRON\", \"source\": \"Sally Beck\", \"edge\": 74}, {\"pair\": [\"Sally Beck\", \"postmaster@ENRON.com\"], \"x\": 0.5484421136002444, \"y\": 0.34602791571524544, \"target\": \"postmaster@ENRON.com\", \"source\": \"Sally Beck\", \"edge\": 75}, {\"pair\": [\"Sally Beck\", \"postmaster@ENRON.com\"], \"x\": 0.6257603090335719, \"y\": 0.4220031385125011, \"target\": \"postmaster@ENRON.com\", \"source\": \"Sally Beck\", \"edge\": 75}, {\"pair\": [\"Chris Abel\", \"Kay Mann\"], \"x\": 0.43523910973877594, \"y\": 0.2345025194232334, \"target\": \"Kay Mann\", \"source\": \"Chris Abel\", \"edge\": 76}, {\"pair\": [\"Chris Abel\", \"Kay Mann\"], \"x\": 0.30379586248638174, \"y\": 0.17983979634000638, \"target\": \"Kay Mann\", \"source\": \"Chris Abel\", \"edge\": 76}, {\"pair\": [\"Chris Abel\", \"Thomas A Martin\"], \"x\": 0.43523910973877594, \"y\": 0.2345025194232334, \"target\": \"Thomas A Martin\", \"source\": \"Chris Abel\", \"edge\": 77}, {\"pair\": [\"Chris Abel\", \"Thomas A Martin\"], \"x\": 0.3256752080830634, \"y\": 0.22092444439335884, \"target\": \"Thomas A Martin\", \"source\": \"Chris Abel\", \"edge\": 77}, {\"pair\": [\"Greg Piper\", \"Christopher F Calger\"], \"x\": 0.707829629877865, \"y\": 0.2573699434315285, \"target\": \"Christopher F Calger\", \"source\": \"Greg Piper\", \"edge\": 78}, {\"pair\": [\"Greg Piper\", \"Christopher F Calger\"], \"x\": 0.781873759950495, \"y\": 0.23604463479577223, \"target\": \"Christopher F Calger\", \"source\": \"Greg Piper\", \"edge\": 78}, {\"pair\": [\"CommissionerCOM\", \"Lynn Blair\"], \"x\": -0.23749868376246785, \"y\": -0.3569347973060981, \"target\": \"Lynn Blair\", \"source\": \"CommissionerCOM\", \"edge\": 79}, {\"pair\": [\"CommissionerCOM\", \"Lynn Blair\"], \"x\": -0.378927200826443, \"y\": -0.38924849980941234, \"target\": \"Lynn Blair\", \"source\": \"CommissionerCOM\", \"edge\": 79}, {\"pair\": [\"CommissionerCOM\", \"John Buchanan\"], \"x\": -0.23749868376246785, \"y\": -0.3569347973060981, \"target\": \"John Buchanan\", \"source\": \"CommissionerCOM\", \"edge\": 80}, {\"pair\": [\"CommissionerCOM\", \"John Buchanan\"], \"x\": -0.2768081226368785, \"y\": -0.27041241097402485, \"target\": \"John Buchanan\", \"source\": \"CommissionerCOM\", \"edge\": 80}, {\"pair\": [\"Lynn Blair\", \"Allen\"], \"x\": -0.378927200826443, \"y\": -0.38924849980941234, \"target\": \"Allen\", \"source\": \"Lynn Blair\", \"edge\": 81}, {\"pair\": [\"Lynn Blair\", \"Allen\"], \"x\": -0.4786564004449369, \"y\": -0.3959800346393555, \"target\": \"Allen\", \"source\": \"Lynn Blair\", \"edge\": 81}, {\"pair\": [\"Lynn Blair\", \"Matthew Lenhart\"], \"x\": -0.378927200826443, \"y\": -0.38924849980941234, \"target\": \"Matthew Lenhart\", \"source\": \"Lynn Blair\", \"edge\": 82}, {\"pair\": [\"Lynn Blair\", \"Matthew Lenhart\"], \"x\": -0.27454823583364435, \"y\": -0.34331286838794145, \"target\": \"Matthew Lenhart\", \"source\": \"Lynn Blair\", \"edge\": 82}, {\"pair\": [\"Lynn Blair\", \"Equity Alert Center\"], \"x\": -0.378927200826443, \"y\": -0.38924849980941234, \"target\": \"Equity Alert Center\", \"source\": \"Lynn Blair\", \"edge\": 83}, {\"pair\": [\"Lynn Blair\", \"Equity Alert Center\"], \"x\": -0.44507017627740153, \"y\": -0.4696124366673973, \"target\": \"Equity Alert Center\", \"source\": \"Lynn Blair\", \"edge\": 83}, {\"pair\": [\"Lynn Blair\", \"Teb Lokey\"], \"x\": -0.378927200826443, \"y\": -0.38924849980941234, \"target\": \"Teb Lokey\", \"source\": \"Lynn Blair\", \"edge\": 84}, {\"pair\": [\"Lynn Blair\", \"Teb Lokey\"], \"x\": -0.4694588227227194, \"y\": -0.4350521670003641, \"target\": \"Teb Lokey\", \"source\": \"Lynn Blair\", \"edge\": 84}, {\"pair\": [\"Matthew Lenhart\", \"Michael Bodnar\"], \"x\": -0.27454823583364435, \"y\": -0.34331286838794145, \"target\": \"Michael Bodnar\", \"source\": \"Matthew Lenhart\", \"edge\": 85}, {\"pair\": [\"Matthew Lenhart\", \"Michael Bodnar\"], \"x\": -0.3742359346052157, \"y\": -0.31566961253313064, \"target\": \"Michael Bodnar\", \"source\": \"Matthew Lenhart\", \"edge\": 85}, {\"pair\": [\"Matthew Lenhart\", \"Lindy Donoho\"], \"x\": -0.27454823583364435, \"y\": -0.34331286838794145, \"target\": \"Lindy Donoho\", \"source\": \"Matthew Lenhart\", \"edge\": 86}, {\"pair\": [\"Matthew Lenhart\", \"Lindy Donoho\"], \"x\": -0.35131135175996137, \"y\": -0.33168913161581665, \"target\": \"Lindy Donoho\", \"source\": \"Matthew Lenhart\", \"edge\": 86}, {\"pair\": [\"Matthew Lenhart\", \"John Buchanan\"], \"x\": -0.27454823583364435, \"y\": -0.34331286838794145, \"target\": \"John Buchanan\", \"source\": \"Matthew Lenhart\", \"edge\": 87}, {\"pair\": [\"Matthew Lenhart\", \"John Buchanan\"], \"x\": -0.2768081226368785, \"y\": -0.27041241097402485, \"target\": \"John Buchanan\", \"source\": \"Matthew Lenhart\", \"edge\": 87}, {\"pair\": [\"Matthew Lenhart\", \"Kent Miller\"], \"x\": -0.27454823583364435, \"y\": -0.34331286838794145, \"target\": \"Kent Miller\", \"source\": \"Matthew Lenhart\", \"edge\": 88}, {\"pair\": [\"Matthew Lenhart\", \"Kent Miller\"], \"x\": -0.33833274651930184, \"y\": -0.38866913399252584, \"target\": \"Kent Miller\", \"source\": \"Matthew Lenhart\", \"edge\": 88}, {\"pair\": [\"John Buchanan\", \"Sitara\"], \"x\": -0.2768081226368785, \"y\": -0.27041241097402485, \"target\": \"Sitara\", \"source\": \"John Buchanan\", \"edge\": 89}, {\"pair\": [\"John Buchanan\", \"Sitara\"], \"x\": -0.28340000052196285, \"y\": -0.17987669556861233, \"target\": \"Sitara\", \"source\": \"John Buchanan\", \"edge\": 89}, {\"pair\": [\"Michelle Nelson\", \"Sandra F Brawner\"], \"x\": 0.04611714508573733, \"y\": -0.1871022325954331, \"target\": \"Sandra F Brawner\", \"source\": \"Michelle Nelson\", \"edge\": 90}, {\"pair\": [\"Michelle Nelson\", \"Sandra F Brawner\"], \"x\": 0.11707370490769063, \"y\": -0.3197946844408573, \"target\": \"Sandra F Brawner\", \"source\": \"Michelle Nelson\", \"edge\": 90}, {\"pair\": [\"Sandra F Brawner\", \"Mike Maggi\"], \"x\": 0.11707370490769063, \"y\": -0.3197946844408573, \"target\": \"Mike Maggi\", \"source\": \"Sandra F Brawner\", \"edge\": 91}, {\"pair\": [\"Sandra F Brawner\", \"Mike Maggi\"], \"x\": 0.1615473392127885, \"y\": -0.421671763771988, \"target\": \"Mike Maggi\", \"source\": \"Sandra F Brawner\", \"edge\": 91}, {\"pair\": [\"Kay Mann\", \"Raymond Bowen Jr\"], \"x\": 0.30379586248638174, \"y\": 0.17983979634000638, \"target\": \"Raymond Bowen Jr\", \"source\": \"Kay Mann\", \"edge\": 92}, {\"pair\": [\"Kay Mann\", \"Raymond Bowen Jr\"], \"x\": 0.33462664032551437, \"y\": 0.2580251863470995, \"target\": \"Raymond Bowen Jr\", \"source\": \"Kay Mann\", \"edge\": 92}, {\"pair\": [\"Raymond Bowen Jr\", \"Thomas A Martin\"], \"x\": 0.33462664032551437, \"y\": 0.2580251863470995, \"target\": \"Thomas A Martin\", \"source\": \"Raymond Bowen Jr\", \"edge\": 93}, {\"pair\": [\"Raymond Bowen Jr\", \"Thomas A Martin\"], \"x\": 0.3256752080830634, \"y\": 0.22092444439335884, \"target\": \"Thomas A Martin\", \"source\": \"Raymond Bowen Jr\", \"edge\": 93}, {\"pair\": [\"Susan W Pereira\", \"market_relations@nyiso.com\"], \"x\": -0.252217316555902, \"y\": -0.41383680535006195, \"target\": \"market_relations@nyiso.com\", \"source\": \"Susan W Pereira\", \"edge\": 94}, {\"pair\": [\"Susan W Pereira\", \"market_relations@nyiso.com\"], \"x\": -0.19807502572900498, \"y\": -0.29581847471522854, \"target\": \"market_relations@nyiso.com\", \"source\": \"Susan W Pereira\", \"edge\": 94}, {\"pair\": [\"Kevin M Presto\", \"John Shafer\"], \"x\": 0.4076931497272412, \"y\": -0.13247881221006888, \"target\": \"John Shafer\", \"source\": \"Kevin M Presto\", \"edge\": 95}, {\"pair\": [\"Kevin M Presto\", \"John Shafer\"], \"x\": 0.4952836792430742, \"y\": -0.17830464927243533, \"target\": \"John Shafer\", \"source\": \"Kevin M Presto\", \"edge\": 95}, {\"pair\": [\"Corporate Benefits@ENRON\", \"Jeff Dasovich\"], \"x\": -0.18838453861032547, \"y\": -0.018567748048718385, \"target\": \"Jeff Dasovich\", \"source\": \"Corporate Benefits@ENRON\", \"edge\": 96}, {\"pair\": [\"Corporate Benefits@ENRON\", \"Jeff Dasovich\"], \"x\": -0.23271633718038373, \"y\": 0.1012950447661095, \"target\": \"Jeff Dasovich\", \"source\": \"Corporate Benefits@ENRON\", \"edge\": 96}, {\"pair\": [\"Enron Change Management Announcement@ENRON\", \"Monika Causholli\"], \"x\": -0.19203421646385885, \"y\": 0.09619909164095242, \"target\": \"Monika Causholli\", \"source\": \"Enron Change Management Announcement@ENRON\", \"edge\": 97}, {\"pair\": [\"Enron Change Management Announcement@ENRON\", \"Monika Causholli\"], \"x\": -0.2628192740594696, \"y\": 0.3285841433886066, \"target\": \"Monika Causholli\", \"source\": \"Enron Change Management Announcement@ENRON\", \"edge\": 97}, {\"pair\": [\"Enron Change Management Announcement@ENRON\", \"Jeff Dasovich\"], \"x\": -0.19203421646385885, \"y\": 0.09619909164095242, \"target\": \"Jeff Dasovich\", \"source\": \"Enron Change Management Announcement@ENRON\", \"edge\": 98}, {\"pair\": [\"Enron Change Management Announcement@ENRON\", \"Jeff Dasovich\"], \"x\": -0.23271633718038373, \"y\": 0.1012950447661095, \"target\": \"Jeff Dasovich\", \"source\": \"Enron Change Management Announcement@ENRON\", \"edge\": 98}, {\"pair\": [\"Kysa Alport\", \"Monika Causholli\"], \"x\": -0.25168227937862925, \"y\": 0.23757780135115128, \"target\": \"Monika Causholli\", \"source\": \"Kysa Alport\", \"edge\": 99}, {\"pair\": [\"Kysa Alport\", \"Monika Causholli\"], \"x\": -0.2628192740594696, \"y\": 0.3285841433886066, \"target\": \"Monika Causholli\", \"source\": \"Kysa Alport\", \"edge\": 99}, {\"pair\": [\"Kysa Alport\", \"Jeff Dasovich\"], \"x\": -0.25168227937862925, \"y\": 0.23757780135115128, \"target\": \"Jeff Dasovich\", \"source\": \"Kysa Alport\", \"edge\": 100}, {\"pair\": [\"Kysa Alport\", \"Jeff Dasovich\"], \"x\": -0.23271633718038373, \"y\": 0.1012950447661095, \"target\": \"Jeff Dasovich\", \"source\": \"Kysa Alport\", \"edge\": 100}, {\"pair\": [\"Monika Causholli\", \"Holden Salisbury\"], \"x\": -0.2628192740594696, \"y\": 0.3285841433886066, \"target\": \"Holden Salisbury\", \"source\": \"Monika Causholli\", \"edge\": 101}, {\"pair\": [\"Monika Causholli\", \"Holden Salisbury\"], \"x\": -0.22380162037209136, \"y\": 0.450837584459673, \"target\": \"Holden Salisbury\", \"source\": \"Monika Causholli\", \"edge\": 101}, {\"pair\": [\"Monika Causholli\", \"Richard B Sanders\"], \"x\": -0.2628192740594696, \"y\": 0.3285841433886066, \"target\": \"Richard B Sanders\", \"source\": \"Monika Causholli\", \"edge\": 102}, {\"pair\": [\"Monika Causholli\", \"Richard B Sanders\"], \"x\": -0.3270929580871269, \"y\": 0.4274643315210704, \"target\": \"Richard B Sanders\", \"source\": \"Monika Causholli\", \"edge\": 102}, {\"pair\": [\"Monika Causholli\", \"Twanda Sweet\"], \"x\": -0.2628192740594696, \"y\": 0.3285841433886066, \"target\": \"Twanda Sweet\", \"source\": \"Monika Causholli\", \"edge\": 103}, {\"pair\": [\"Monika Causholli\", \"Twanda Sweet\"], \"x\": -0.34815860535959914, \"y\": 0.3928288597751179, \"target\": \"Twanda Sweet\", \"source\": \"Monika Causholli\", \"edge\": 103}, {\"pair\": [\"Monika Causholli\", \"Andrew Edison\"], \"x\": -0.2628192740594696, \"y\": 0.3285841433886066, \"target\": \"Andrew Edison\", \"source\": \"Monika Causholli\", \"edge\": 104}, {\"pair\": [\"Monika Causholli\", \"Andrew Edison\"], \"x\": -0.2882193293323687, \"y\": 0.43724374985206077, \"target\": \"Andrew Edison\", \"source\": \"Monika Causholli\", \"edge\": 104}, {\"pair\": [\"Monika Causholli\", \"Britt Davis\"], \"x\": -0.2628192740594696, \"y\": 0.3285841433886066, \"target\": \"Britt Davis\", \"source\": \"Monika Causholli\", \"edge\": 105}, {\"pair\": [\"Monika Causholli\", \"Britt Davis\"], \"x\": -0.3078682046494908, \"y\": 0.4017128390831765, \"target\": \"Britt Davis\", \"source\": \"Monika Causholli\", \"edge\": 105}, {\"pair\": [\"Monika Causholli\", \"Exchange System Administrator\"], \"x\": -0.2628192740594696, \"y\": 0.3285841433886066, \"target\": \"Exchange System Administrator\", \"source\": \"Monika Causholli\", \"edge\": 106}, {\"pair\": [\"Monika Causholli\", \"Exchange System Administrator\"], \"x\": -0.2571027929788085, \"y\": 0.41833458888373465, \"target\": \"Exchange System Administrator\", \"source\": \"Monika Causholli\", \"edge\": 106}, {\"pair\": [\"Holden Salisbury\", \"marilene.listrom@om.com\"], \"x\": -0.22380162037209136, \"y\": 0.450837584459673, \"target\": \"marilene.listrom@om.com\", \"source\": \"Holden Salisbury\", \"edge\": 107}, {\"pair\": [\"Holden Salisbury\", \"marilene.listrom@om.com\"], \"x\": -0.1925261932867844, \"y\": 0.5304443301313376, \"target\": \"marilene.listrom@om.com\", \"source\": \"Holden Salisbury\", \"edge\": 107}, {\"pair\": [\"Diana Scholtes\", \"Sara Shackleton\"], \"x\": 0.0363845798700714, \"y\": -0.46793855488919744, \"target\": \"Sara Shackleton\", \"source\": \"Diana Scholtes\", \"edge\": 108}, {\"pair\": [\"Diana Scholtes\", \"Sara Shackleton\"], \"x\": 0.11497008163761994, \"y\": -0.5343276320713739, \"target\": \"Sara Shackleton\", \"source\": \"Diana Scholtes\", \"edge\": 108}, {\"pair\": [\"Jeff Dasovich\", \"V Charles Weldon\"], \"x\": -0.23271633718038373, \"y\": 0.1012950447661095, \"target\": \"V Charles Weldon\", \"source\": \"Jeff Dasovich\", \"edge\": 109}, {\"pair\": [\"Jeff Dasovich\", \"V Charles Weldon\"], \"x\": -0.23391128265536226, \"y\": 0.18269277263883346, \"target\": \"V Charles Weldon\", \"source\": \"Jeff Dasovich\", \"edge\": 109}, {\"pair\": [\"Jeff Dasovich\", \"Liz M Taylor\"], \"x\": -0.23271633718038373, \"y\": 0.1012950447661095, \"target\": \"Liz M Taylor\", \"source\": \"Jeff Dasovich\", \"edge\": 110}, {\"pair\": [\"Jeff Dasovich\", \"Liz M Taylor\"], \"x\": -0.286570677920188, \"y\": 0.039900727984111706, \"target\": \"Liz M Taylor\", \"source\": \"Jeff Dasovich\", \"edge\": 110}, {\"pair\": [\"Jeff Dasovich\", \"John Allison\"], \"x\": -0.23271633718038373, \"y\": 0.1012950447661095, \"target\": \"John Allison\", \"source\": \"Jeff Dasovich\", \"edge\": 111}, {\"pair\": [\"Jeff Dasovich\", \"John Allison\"], \"x\": -0.3416695193487434, \"y\": 0.07911072767271736, \"target\": \"John Allison\", \"source\": \"Jeff Dasovich\", \"edge\": 111}, {\"pair\": [\"Jeff Dasovich\", \"Greg Whalley\"], \"x\": -0.23271633718038373, \"y\": 0.1012950447661095, \"target\": \"Greg Whalley\", \"source\": \"Jeff Dasovich\", \"edge\": 112}, {\"pair\": [\"Jeff Dasovich\", \"Greg Whalley\"], \"x\": -0.2979212512607108, \"y\": 0.08073326171216073, \"target\": \"Greg Whalley\", \"source\": \"Jeff Dasovich\", \"edge\": 112}, {\"pair\": [\"Jeff Dasovich\", \"Stacey W White\"], \"x\": -0.23271633718038373, \"y\": 0.1012950447661095, \"target\": \"Stacey W White\", \"source\": \"Jeff Dasovich\", \"edge\": 113}, {\"pair\": [\"Jeff Dasovich\", \"Stacey W White\"], \"x\": -0.34244916847995727, \"y\": 0.11429445602229116, \"target\": \"Stacey W White\", \"source\": \"Jeff Dasovich\", \"edge\": 113}, {\"pair\": [\"Jeff Dasovich\", \"Mark Whitt\"], \"x\": -0.23271633718038373, \"y\": 0.1012950447661095, \"target\": \"Mark Whitt\", \"source\": \"Jeff Dasovich\", \"edge\": 114}, {\"pair\": [\"Jeff Dasovich\", \"Mark Whitt\"], \"x\": -0.42769495057608514, \"y\": 0.13286356726737533, \"target\": \"Mark Whitt\", \"source\": \"Jeff Dasovich\", \"edge\": 114}, {\"pair\": [\"Jeff Dasovich\", \"Jason (Trading) Williams\"], \"x\": -0.23271633718038373, \"y\": 0.1012950447661095, \"target\": \"Jason (Trading) Williams\", \"source\": \"Jeff Dasovich\", \"edge\": 115}, {\"pair\": [\"Jeff Dasovich\", \"Jason (Trading) Williams\"], \"x\": -0.2705387998360696, \"y\": 0.14869358404241803, \"target\": \"Jason (Trading) Williams\", \"source\": \"Jeff Dasovich\", \"edge\": 115}, {\"pair\": [\"Jeff Dasovich\", \"Grace Rodriguez\"], \"x\": -0.23271633718038373, \"y\": 0.1012950447661095, \"target\": \"Grace Rodriguez\", \"source\": \"Jeff Dasovich\", \"edge\": 116}, {\"pair\": [\"Jeff Dasovich\", \"Grace Rodriguez\"], \"x\": -0.3261029905251396, \"y\": 0.04800595748783251, \"target\": \"Grace Rodriguez\", \"source\": \"Jeff Dasovich\", \"edge\": 116}, {\"pair\": [\"Jeff Dasovich\", \"Bill Williams III\"], \"x\": -0.23271633718038373, \"y\": 0.1012950447661095, \"target\": \"Bill Williams III\", \"source\": \"Jeff Dasovich\", \"edge\": 117}, {\"pair\": [\"Jeff Dasovich\", \"Bill Williams III\"], \"x\": -0.38821108648711367, \"y\": 0.17975446332255796, \"target\": \"Bill Williams III\", \"source\": \"Jeff Dasovich\", \"edge\": 117}, {\"pair\": [\"Jeff Dasovich\", \"Mike Grigsby\"], \"x\": -0.23271633718038373, \"y\": 0.1012950447661095, \"target\": \"Mike Grigsby\", \"source\": \"Jeff Dasovich\", \"edge\": 118}, {\"pair\": [\"Jeff Dasovich\", \"Mike Grigsby\"], \"x\": -0.18213115644971523, \"y\": 0.1599333371835387, \"target\": \"Mike Grigsby\", \"source\": \"Jeff Dasovich\", \"edge\": 118}, {\"pair\": [\"Jeff Dasovich\", \"Beth Cherry\"], \"x\": -0.23271633718038373, \"y\": 0.1012950447661095, \"target\": \"Beth Cherry\", \"source\": \"Jeff Dasovich\", \"edge\": 119}, {\"pair\": [\"Jeff Dasovich\", \"Beth Cherry\"], \"x\": -0.2705319288636135, \"y\": 0.19592225507845992, \"target\": \"Beth Cherry\", \"source\": \"Jeff Dasovich\", \"edge\": 119}, {\"pair\": [\"Jeff Dasovich\", \"Krishna Lattupally\"], \"x\": -0.23271633718038373, \"y\": 0.1012950447661095, \"target\": \"Krishna Lattupally\", \"source\": \"Jeff Dasovich\", \"edge\": 120}, {\"pair\": [\"Jeff Dasovich\", \"Krishna Lattupally\"], \"x\": -0.3003557535841376, \"y\": 0.1782153808084176, \"target\": \"Krishna Lattupally\", \"source\": \"Jeff Dasovich\", \"edge\": 120}, {\"pair\": [\"Jeff Dasovich\", \"Eric Ellwanger\"], \"x\": -0.23271633718038373, \"y\": 0.1012950447661095, \"target\": \"Eric Ellwanger\", \"source\": \"Jeff Dasovich\", \"edge\": 121}, {\"pair\": [\"Jeff Dasovich\", \"Eric Ellwanger\"], \"x\": -0.32566086120199217, \"y\": 0.1569138879582486, \"target\": \"Eric Ellwanger\", \"source\": \"Jeff Dasovich\", \"edge\": 121}, {\"pair\": [\"Jeff Dasovich\", \"HotDeals\"], \"x\": -0.23271633718038373, \"y\": 0.1012950447661095, \"target\": \"HotDeals\", \"source\": \"Jeff Dasovich\", \"edge\": 122}, {\"pair\": [\"Jeff Dasovich\", \"HotDeals\"], \"x\": -0.20025792623388253, \"y\": 0.19309940990539123, \"target\": \"HotDeals\", \"source\": \"Jeff Dasovich\", \"edge\": 122}, {\"pair\": [\"Jeff Dasovich\", \"Jason Wolfe\"], \"x\": -0.23271633718038373, \"y\": 0.1012950447661095, \"target\": \"Jason Wolfe\", \"source\": \"Jeff Dasovich\", \"edge\": 123}, {\"pair\": [\"Jeff Dasovich\", \"Jason Wolfe\"], \"x\": -0.30858896900527405, \"y\": 0.12248656733281857, \"target\": \"Jason Wolfe\", \"source\": \"Jeff Dasovich\", \"edge\": 123}, {\"pair\": [\"Mark Whitt\", \"Joseph Alamo\"], \"x\": -0.42769495057608514, \"y\": 0.13286356726737533, \"target\": \"Joseph Alamo\", \"source\": \"Mark Whitt\", \"edge\": 124}, {\"pair\": [\"Mark Whitt\", \"Joseph Alamo\"], \"x\": -0.4749333374608015, \"y\": 0.18467056728068723, \"target\": \"Joseph Alamo\", \"source\": \"Mark Whitt\", \"edge\": 124}, {\"pair\": [\"Mark Whitt\", \"Susan Mara\"], \"x\": -0.42769495057608514, \"y\": 0.13286356726737533, \"target\": \"Susan Mara\", \"source\": \"Mark Whitt\", \"edge\": 125}, {\"pair\": [\"Mark Whitt\", \"Susan Mara\"], \"x\": -0.5351484123406306, \"y\": 0.16200634858235635, \"target\": \"Susan Mara\", \"source\": \"Mark Whitt\", \"edge\": 125}, {\"pair\": [\"Mark Whitt\", \"James D Steffes\"], \"x\": -0.42769495057608514, \"y\": 0.13286356726737533, \"target\": \"James D Steffes\", \"source\": \"Mark Whitt\", \"edge\": 126}, {\"pair\": [\"Mark Whitt\", \"James D Steffes\"], \"x\": -0.5399363047748494, \"y\": 0.12544588296738068, \"target\": \"James D Steffes\", \"source\": \"Mark Whitt\", \"edge\": 126}, {\"pair\": [\"Joseph Alamo\", \"Bill Williams III\"], \"x\": -0.4749333374608015, \"y\": 0.18467056728068723, \"target\": \"Bill Williams III\", \"source\": \"Joseph Alamo\", \"edge\": 127}, {\"pair\": [\"Joseph Alamo\", \"Bill Williams III\"], \"x\": -0.38821108648711367, \"y\": 0.17975446332255796, \"target\": \"Bill Williams III\", \"source\": \"Joseph Alamo\", \"edge\": 127}, {\"pair\": [\"Bill Williams III\", \"Paul Kaufman\"], \"x\": -0.38821108648711367, \"y\": 0.17975446332255796, \"target\": \"Paul Kaufman\", \"source\": \"Bill Williams III\", \"edge\": 128}, {\"pair\": [\"Bill Williams III\", \"Paul Kaufman\"], \"x\": -0.4802641249498434, \"y\": 0.24452163503283456, \"target\": \"Paul Kaufman\", \"source\": \"Bill Williams III\", \"edge\": 128}], \"data-9dff496d3f53339ed61c49089200899e\": [{\"name\": \"John Arnold\", \"ken\": \"No\", \"x\": 0.13417633878658103, \"y\": 0.022178370986613936, \"degree\": 17}, {\"name\": \"Phillip K Allen\", \"ken\": \"No\", \"x\": 0.19435694645944332, \"y\": 0.029061812033883812, \"degree\": 1}, {\"name\": \"John Lavorato\", \"ken\": \"No\", \"x\": -0.04751458653034813, \"y\": -0.03436621611148615, \"degree\": 4}, {\"name\": \"William S Bradford\", \"ken\": \"No\", \"x\": 0.2461354951380852, \"y\": 0.09668629897104232, \"degree\": 2}, {\"name\": \"Kenneth Thibodeaux\", \"ken\": \"No\", \"x\": -0.04785074906398966, \"y\": 0.07117420422998007, \"degree\": 2}, {\"name\": \"Joannie Williamson\", \"ken\": \"No\", \"x\": 0.21951905793813264, \"y\": -0.04090699741382715, \"degree\": 1}, {\"name\": \"Michael Tribolet\", \"ken\": \"No\", \"x\": 0.2260720437573158, \"y\": 0.11368555723757998, \"degree\": 2}, {\"name\": \"Paula Rieker\", \"ken\": \"No\", \"x\": 0.1304900568474134, \"y\": 0.09324234912491355, \"degree\": 1}, {\"name\": \"Chip Schneider\", \"ken\": \"No\", \"x\": 0.151273693656086, \"y\": -0.04558626917944251, \"degree\": 1}, {\"name\": \"Kenneth Lay\", \"ken\": \"Yes\", \"x\": -0.009966129277603857, \"y\": 0.048201710700449846, \"degree\": 4}, {\"name\": \"Rick Buy\", \"ken\": \"No\", \"x\": 0.2041103832818954, \"y\": 0.17101191665497123, \"degree\": 8}, {\"name\": \"Larry Campbell\", \"ken\": \"No\", \"x\": 0.2310085764897733, \"y\": 0.03539985427170436, \"degree\": 1}, {\"name\": \"Kohn.Roger@epamail.epa.gov\", \"ken\": \"No\", \"x\": 0.1861846230565847, \"y\": -0.06289741267487345, \"degree\": 1}, {\"name\": \"Scott Patti\", \"ken\": \"No\", \"x\": 0.19350666993436574, \"y\": -0.01616113588991462, \"degree\": 1}, {\"name\": \"Van Wolf\", \"ken\": \"No\", \"x\": 0.2360195108475067, \"y\": -0.002398479611594156, \"degree\": 1}, {\"name\": \"Jon Fields\", \"ken\": \"No\", \"x\": 0.17607735489256918, \"y\": 0.07293926902434283, \"degree\": 1}, {\"name\": \"Ruth Jensen\", \"ken\": \"No\", \"x\": 0.2867463953192098, \"y\": -0.06593106725926919, \"degree\": 2}, {\"name\": \"Tamara Jae Black\", \"ken\": \"No\", \"x\": 0.014627970072258651, \"y\": -0.06398740839407101, \"degree\": 2}, {\"name\": \"Lizzette Palmer\", \"ken\": \"No\", \"x\": -0.9499340692065802, \"y\": 0.676419520921559, \"degree\": 2}, {\"name\": \"Ward\", \"ken\": \"No\", \"x\": -0.9838640941001581, \"y\": 0.7296664790496671, \"degree\": 1}, {\"name\": \"Kim S (Houston)\", \"ken\": \"No\", \"x\": -0.9999999999999999, \"y\": 0.6642908881189739, \"degree\": 1}, {\"name\": \"Michelle Cash\", \"ken\": \"No\", \"x\": -0.1227732476423979, \"y\": -0.13075345297312227, \"degree\": 19}, {\"name\": \"Shelley Corman\", \"ken\": \"No\", \"x\": -0.09955360601665153, \"y\": -0.40976044201047174, \"degree\": 7}, {\"name\": \"Karen Buckley\", \"ken\": \"No\", \"x\": -0.09532026187362692, \"y\": -0.5079217201353108, \"degree\": 1}, {\"name\": \"Iris Mack\", \"ken\": \"No\", \"x\": -0.011530079330679288, \"y\": -0.42735404652239445, \"degree\": 1}, {\"name\": \"Pete Davis\", \"ken\": \"No\", \"x\": 0.9205520813860111, \"y\": -0.6775719567200427, \"degree\": 2}, {\"name\": \"Eric Bass\", \"ken\": \"No\", \"x\": 0.8816036900265649, \"y\": -0.7280321839025139, \"degree\": 3}, {\"name\": \"TruOrange@aol.com@ENRON\", \"ken\": \"No\", \"x\": 0.8267317036534563, \"y\": -0.7389448468491471, \"degree\": 1}, {\"name\": \"Craig Dean\", \"ken\": \"No\", \"x\": 0.9213691103846695, \"y\": -0.7815094321004216, \"degree\": 1}, {\"name\": \"Stanley Horton\", \"ken\": \"No\", \"x\": 0.5946316736862565, \"y\": 0.2785304056295319, \"degree\": 4}, {\"name\": \"Sally Beck\", \"ken\": \"No\", \"x\": 0.5484421136002444, \"y\": 0.34602791571524544, \"degree\": 10}, {\"name\": \"Chris Abel\", \"ken\": \"No\", \"x\": 0.43523910973877594, \"y\": 0.2345025194232334, \"degree\": 3}, {\"name\": \"Mark Pickering\", \"ken\": \"No\", \"x\": 0.6897182654292654, \"y\": 0.31059654109382806, \"degree\": 1}, {\"name\": \"Greg Piper\", \"ken\": \"No\", \"x\": 0.707829629877865, \"y\": 0.2573699434315285, \"degree\": 2}, {\"name\": \"IntercontinentalExchange\", \"ken\": \"No\", \"x\": 0.38078703417937637, \"y\": 0.26592302012322366, \"degree\": 2}, {\"name\": \"Victor Lamadrid\", \"ken\": \"No\", \"x\": 0.6347319985229821, \"y\": 0.3888262049629936, \"degree\": 1}, {\"name\": \"Internet Mail Delivery\", \"ken\": \"No\", \"x\": 0.533375834119346, \"y\": 0.41986973583892057, \"degree\": 1}, {\"name\": \"Sivy on Stocks\", \"ken\": \"No\", \"x\": 0.5785366615344383, \"y\": 0.264792120275877, \"degree\": 1}, {\"name\": \"soblander@carrfut.com@ENRON\", \"ken\": \"No\", \"x\": 0.5161669312043499, \"y\": 0.3877992572777974, \"degree\": 1}, {\"name\": \"System Administrator\", \"ken\": \"No\", \"x\": 0.5944790344362716, \"y\": 0.43898827766256493, \"degree\": 1}, {\"name\": \"RealMoneycom\", \"ken\": \"No\", \"x\": 0.5520001522895849, \"y\": 0.29902182005672856, \"degree\": 1}, {\"name\": \"liane_kucher@platts.com@ENRON\", \"ken\": \"No\", \"x\": 0.6227730495155442, \"y\": 0.32780594319483725, \"degree\": 1}, {\"name\": \"postmaster@ENRON.com\", \"ken\": \"No\", \"x\": 0.6257603090335719, \"y\": 0.4220031385125011, \"degree\": 1}, {\"name\": \"Christopher F Calger\", \"ken\": \"No\", \"x\": 0.781873759950495, \"y\": 0.23604463479577223, \"degree\": 1}, {\"name\": \"CommissionerCOM\", \"ken\": \"No\", \"x\": -0.23749868376246785, \"y\": -0.3569347973060981, \"degree\": 3}, {\"name\": \"Lynn Blair\", \"ken\": \"No\", \"x\": -0.378927200826443, \"y\": -0.38924849980941234, \"degree\": 5}, {\"name\": \"Allen\", \"ken\": \"No\", \"x\": -0.4786564004449369, \"y\": -0.3959800346393555, \"degree\": 1}, {\"name\": \"Matthew Lenhart\", \"ken\": \"No\", \"x\": -0.27454823583364435, \"y\": -0.34331286838794145, \"degree\": 6}, {\"name\": \"Michael Bodnar\", \"ken\": \"No\", \"x\": -0.3742359346052157, \"y\": -0.31566961253313064, \"degree\": 1}, {\"name\": \"Lindy Donoho\", \"ken\": \"No\", \"x\": -0.35131135175996137, \"y\": -0.33168913161581665, \"degree\": 1}, {\"name\": \"John Buchanan\", \"ken\": \"No\", \"x\": -0.2768081226368785, \"y\": -0.27041241097402485, \"degree\": 3}, {\"name\": \"Kent Miller\", \"ken\": \"No\", \"x\": -0.33833274651930184, \"y\": -0.38866913399252584, \"degree\": 1}, {\"name\": \"Equity Alert Center\", \"ken\": \"No\", \"x\": -0.44507017627740153, \"y\": -0.4696124366673973, \"degree\": 1}, {\"name\": \"Teb Lokey\", \"ken\": \"No\", \"x\": -0.4694588227227194, \"y\": -0.4350521670003641, \"degree\": 1}, {\"name\": \"Sitara\", \"ken\": \"No\", \"x\": -0.28340000052196285, \"y\": -0.17987669556861233, \"degree\": 1}, {\"name\": \"Michelle Nelson\", \"ken\": \"No\", \"x\": 0.04611714508573733, \"y\": -0.1871022325954331, \"degree\": 2}, {\"name\": \"Sandra F Brawner\", \"ken\": \"No\", \"x\": 0.11707370490769063, \"y\": -0.3197946844408573, \"degree\": 2}, {\"name\": \"Mike Maggi\", \"ken\": \"No\", \"x\": 0.1615473392127885, \"y\": -0.421671763771988, \"degree\": 1}, {\"name\": \"Kay Mann\", \"ken\": \"No\", \"x\": 0.30379586248638174, \"y\": 0.17983979634000638, \"degree\": 5}, {\"name\": \"Carlos Sole III\", \"ken\": \"No\", \"x\": 0.2174914488061865, \"y\": 0.2699959346233151, \"degree\": 1}, {\"name\": \"Ben Jacoby\", \"ken\": \"No\", \"x\": 0.2437982103634577, \"y\": 0.24564656739719617, \"degree\": 1}, {\"name\": \"Raymond Bowen Jr\", \"ken\": \"No\", \"x\": 0.33462664032551437, \"y\": 0.2580251863470995, \"degree\": 2}, {\"name\": \"Thomas A Martin\", \"ken\": \"No\", \"x\": 0.3256752080830634, \"y\": 0.22092444439335884, \"degree\": 3}, {\"name\": \"Julie Armstrong\", \"ken\": \"No\", \"x\": 0.1840736691155023, \"y\": 0.2576704375700611, \"degree\": 1}, {\"name\": \"Susan W Pereira\", \"ken\": \"No\", \"x\": -0.252217316555902, \"y\": -0.41383680535006195, \"degree\": 1}, {\"name\": \"market_relations@nyiso.com\", \"ken\": \"No\", \"x\": -0.19807502572900498, \"y\": -0.29581847471522854, \"degree\": 2}, {\"name\": \"Kevin M Presto\", \"ken\": \"No\", \"x\": 0.4076931497272412, \"y\": -0.13247881221006888, \"degree\": 2}, {\"name\": \"John Shafer\", \"ken\": \"No\", \"x\": 0.4952836792430742, \"y\": -0.17830464927243533, \"degree\": 1}, {\"name\": \"Corporate Benefits@ENRON\", \"ken\": \"No\", \"x\": -0.18838453861032547, \"y\": -0.018567748048718385, \"degree\": 2}, {\"name\": \"CGoering@nyiso.com\", \"ken\": \"No\", \"x\": -0.12910155887125227, \"y\": -0.22995116160124746, \"degree\": 1}, {\"name\": \"Stacey Bolton\", \"ken\": \"No\", \"x\": -0.1729313182285885, \"y\": -0.2061330767662719, \"degree\": 1}, {\"name\": \"Narsimha Misra\", \"ken\": \"No\", \"x\": -0.0840436774096857, \"y\": -0.11131037762716942, \"degree\": 1}, {\"name\": \"Richard Ring\", \"ken\": \"No\", \"x\": -0.10677914072035583, \"y\": -0.25421717364822805, \"degree\": 1}, {\"name\": \"The Motley Fool\", \"ken\": \"No\", \"x\": -0.1550350014174366, \"y\": -0.2512457362307091, \"degree\": 1}, {\"name\": \"Enron Change Management Announcement@ENRON\", \"ken\": \"No\", \"x\": -0.19203421646385885, \"y\": 0.09619909164095242, \"degree\": 3}, {\"name\": \"Jaime Gualy\", \"ken\": \"No\", \"x\": -0.14933689459498897, \"y\": -0.18281228383629342, \"degree\": 1}, {\"name\": \"Activecom\", \"ken\": \"No\", \"x\": -0.07346071007713509, \"y\": -0.2275413223731924, \"degree\": 1}, {\"name\": \"Benjamin Rogers\", \"ken\": \"No\", \"x\": -0.2057864374683497, \"y\": -0.13201734946272448, \"degree\": 1}, {\"name\": \"Expedia Fare Tracker\", \"ken\": \"No\", \"x\": -0.05410343970547091, \"y\": -0.15581111356508576, \"degree\": 1}, {\"name\": \"Jad Doan\", \"ken\": \"No\", \"x\": -0.20174106667734035, \"y\": -0.21466900514972845, \"degree\": 1}, {\"name\": \"Career Management Center\", \"ken\": \"No\", \"x\": -0.20599281940690922, \"y\": -0.16751845020229142, \"degree\": 1}, {\"name\": \"Irena D Hogan\", \"ken\": \"No\", \"x\": -0.09648061542972823, \"y\": -0.1949291534836547, \"degree\": 1}, {\"name\": \"Sladana-Anna Kulic\", \"ken\": \"No\", \"x\": -0.05139270004150194, \"y\": -0.19471611169071992, \"degree\": 1}, {\"name\": \"Eric Saibi\", \"ken\": \"No\", \"x\": 0.9356627032985834, \"y\": -0.6237083219533683, \"degree\": 1}, {\"name\": \"Kysa Alport\", \"ken\": \"No\", \"x\": -0.25168227937862925, \"y\": 0.23757780135115128, \"degree\": 2}, {\"name\": \"Monika Causholli\", \"ken\": \"No\", \"x\": -0.2628192740594696, \"y\": 0.3285841433886066, \"degree\": 8}, {\"name\": \"Holden Salisbury\", \"ken\": \"No\", \"x\": -0.22380162037209136, \"y\": 0.450837584459673, \"degree\": 2}, {\"name\": \"marilene.listrom@om.com\", \"ken\": \"No\", \"x\": -0.1925261932867844, \"y\": 0.5304443301313376, \"degree\": 1}, {\"name\": \"Richard B Sanders\", \"ken\": \"No\", \"x\": -0.3270929580871269, \"y\": 0.4274643315210704, \"degree\": 1}, {\"name\": \"Twanda Sweet\", \"ken\": \"No\", \"x\": -0.34815860535959914, \"y\": 0.3928288597751179, \"degree\": 1}, {\"name\": \"Andrew Edison\", \"ken\": \"No\", \"x\": -0.2882193293323687, \"y\": 0.43724374985206077, \"degree\": 1}, {\"name\": \"Britt Davis\", \"ken\": \"No\", \"x\": -0.3078682046494908, \"y\": 0.4017128390831765, \"degree\": 1}, {\"name\": \"Exchange System Administrator\", \"ken\": \"No\", \"x\": -0.2571027929788085, \"y\": 0.41833458888373465, \"degree\": 1}, {\"name\": \"Diana Scholtes\", \"ken\": \"No\", \"x\": 0.0363845798700714, \"y\": -0.46793855488919744, \"degree\": 2}, {\"name\": \"Jerry Graves\", \"ken\": \"No\", \"x\": -0.028359756960832323, \"y\": -0.46500092496385037, \"degree\": 1}, {\"name\": \"Darrell Schoolcraft\", \"ken\": \"No\", \"x\": -0.0544238512487007, \"y\": -0.4939854549622472, \"degree\": 1}, {\"name\": \"Sara Shackleton\", \"ken\": \"No\", \"x\": 0.11497008163761994, \"y\": -0.5343276320713739, \"degree\": 1}, {\"name\": \"Jeff Dasovich\", \"ken\": \"No\", \"x\": -0.23271633718038373, \"y\": 0.1012950447661095, \"degree\": 21}, {\"name\": \"V Charles Weldon\", \"ken\": \"No\", \"x\": -0.23391128265536226, \"y\": 0.18269277263883346, \"degree\": 1}, {\"name\": \"Liz M Taylor\", \"ken\": \"No\", \"x\": -0.286570677920188, \"y\": 0.039900727984111706, \"degree\": 1}, {\"name\": \"John Allison\", \"ken\": \"No\", \"x\": -0.3416695193487434, \"y\": 0.07911072767271736, \"degree\": 1}, {\"name\": \"Greg Whalley\", \"ken\": \"No\", \"x\": -0.2979212512607108, \"y\": 0.08073326171216073, \"degree\": 1}, {\"name\": \"Stacey W White\", \"ken\": \"No\", \"x\": -0.34244916847995727, \"y\": 0.11429445602229116, \"degree\": 1}, {\"name\": \"Mark Whitt\", \"ken\": \"No\", \"x\": -0.42769495057608514, \"y\": 0.13286356726737533, \"degree\": 4}, {\"name\": \"Joseph Alamo\", \"ken\": \"No\", \"x\": -0.4749333374608015, \"y\": 0.18467056728068723, \"degree\": 2}, {\"name\": \"Susan Mara\", \"ken\": \"No\", \"x\": -0.5351484123406306, \"y\": 0.16200634858235635, \"degree\": 1}, {\"name\": \"James D Steffes\", \"ken\": \"No\", \"x\": -0.5399363047748494, \"y\": 0.12544588296738068, \"degree\": 1}, {\"name\": \"Jason (Trading) Williams\", \"ken\": \"No\", \"x\": -0.2705387998360696, \"y\": 0.14869358404241803, \"degree\": 1}, {\"name\": \"Grace Rodriguez\", \"ken\": \"No\", \"x\": -0.3261029905251396, \"y\": 0.04800595748783251, \"degree\": 1}, {\"name\": \"Bill Williams III\", \"ken\": \"No\", \"x\": -0.38821108648711367, \"y\": 0.17975446332255796, \"degree\": 3}, {\"name\": \"Paul Kaufman\", \"ken\": \"No\", \"x\": -0.4802641249498434, \"y\": 0.24452163503283456, \"degree\": 1}, {\"name\": \"Mike Grigsby\", \"ken\": \"No\", \"x\": -0.18213115644971523, \"y\": 0.1599333371835387, \"degree\": 1}, {\"name\": \"Beth Cherry\", \"ken\": \"No\", \"x\": -0.2705319288636135, \"y\": 0.19592225507845992, \"degree\": 1}, {\"name\": \"Krishna Lattupally\", \"ken\": \"No\", \"x\": -0.3003557535841376, \"y\": 0.1782153808084176, \"degree\": 1}, {\"name\": \"Eric Ellwanger\", \"ken\": \"No\", \"x\": -0.32566086120199217, \"y\": 0.1569138879582486, \"degree\": 1}, {\"name\": \"HotDeals\", \"ken\": \"No\", \"x\": -0.20025792623388253, \"y\": 0.19309940990539123, \"degree\": 1}, {\"name\": \"Jason Wolfe\", \"ken\": \"No\", \"x\": -0.30858896900527405, \"y\": 0.12248656733281857, \"degree\": 1}]}}, {\"mode\": \"vega-lite\"});\n",
       "</script>"
      ],
      "text/plain": [
       "alt.LayerChart(...)"
      ]
     },
     "execution_count": 554,
     "metadata": {},
     "output_type": "execute_result"
    }
   ],
   "source": [
    "G = nx.read_gml(\"enron_network.gml\")\n",
    "\n",
    "# Coloring Ken\n",
    "col_ken = [name == \"Kenneth Lay\" for name in G.nodes]\n",
    "\n",
    "# Draw the network\n",
    "network = nxa.draw_networkx(G, pos=pos,\n",
    "                        node_size='degree:Q',\n",
    "                        node_tooltip = \"name\"\n",
    "                       )\n",
    "\n",
    "# Get the node layer\n",
    "edges = network.layer[0]\n",
    "nodes = network.layer[1]\n",
    "\n",
    "# Condition nodes based on brush\n",
    "nodes = nodes.encode(\n",
    "    fill = alt.Fill('ken:N', scale=alt.Scale(scheme='dark2'), legend=None),\n",
    "    size = alt.Size('degree:Q', title=[\"Number of nodes\"])\n",
    ")\n",
    "\n",
    "(edges+nodes).properties(\n",
    "    height=800, width=1000, title={\n",
    "      \"text\": [\"Email communication during scandal\"], \n",
    "      \"subtitle\": [\"Zoom-in for more details. Hover over dots for tooltips.\"],\n",
    "      \"fontSize\":20,\n",
    "      \"subtitleFontSize\": 16}\n",
    ").interactive()"
   ]
  },
  {
   "cell_type": "markdown",
   "id": "c2e1df5e",
   "metadata": {},
   "source": [
    "We can see that Kenneth Lay is at the center of the email communcation. We can also deduct key people like Jeff Dasovich, John Arnold, Michelle Cash and Rick Buy to whom employees reported and who then communicated with Kenneth Lay. However, the other two culprits in the case, Jeffrey Skilling and Andrew Fastow, do appear on this network of most influential email communicator. We cannot exactly say why both, Skilling and Fastow, did not communicate much via email but since both of them were involved in the fraud we can assume that they did not want confidential communication about it to be recorded as email. Outside the main network, there are two more smaller networks which show no connection to the main network. Apparently, not all departments were connected to each other, so that communication islands existed."
   ]
  },
  {
   "cell_type": "markdown",
   "id": "7bfe2987",
   "metadata": {},
   "source": [
    "### Are the key culprits involved in the Enron scandal among the Top 20 people who sent and received the emails when the scandal started?\n",
    "These people are namely Kenneth Lay (founder, Chairman and CEO), Jeffrey Skilling (former President, and COO) and Andrew Fastow (former CFO) (Source: Wikipedia). Since these people knew about the fraud there might be evidence in the number of emails received that these key people were involved."
   ]
  },
  {
   "cell_type": "markdown",
   "id": "efb717ab",
   "metadata": {},
   "source": [
    "# Email recipients limited to highest 10k\n",
    "authors = pd.DataFrame({\"Name\" : df_scandal[\"X-From\"].value_counts().index,\n",
    "                            \"Sent\" : df_scandal[\"X-From\"].value_counts()}).reset_index(drop=True).sort_values(by=\"Sent\", ascending=False)\n",
    "\n",
    "# Email recipients limited to highest 10k\n",
    "all_recipients = df_scandal[\"X-To\"] + df_scandal[\"X-cc\"] + df_scandal[\"X-bcc\"]\n",
    "recipients = pd.Series([item for row in all_recipients for item in row if item])\n",
    "recipients = pd.DataFrame({\"Name\" : recipients.value_counts().index,\n",
    "                            \"Received\" : recipients.value_counts()}).reset_index(drop=True).sort_values(by=\"Received\", ascending=False)\n",
    "\n",
    "# Merge both dataframes\n",
    "email_people = pd.merge(authors, recipients, how='outer', on=\"Name\").fillna(0)\n",
    "email_people[\"Total\"] = email_people.Sent + email_people.Received\n",
    "email_people = email_people.sort_values(by=\"Total\", ascending=False)[:20].reset_index(drop=True)\n",
    "email_people[\"is_culprit\"] = email_people.Name.apply(lambda x: True if x in [\"Kenneth Lay\",\"Jeffrey Skilling\",\"Andrew Fastow\"] else False)\n",
    "\n",
    "# Add rank\n",
    "email_people = email_people.reset_index()\n",
    "email_people[\"Rank\"] = email_people.index +1\n",
    "email_people.Name = email_people[\"Rank\"].astype(str) + \" - \" + email_people.Name"
   ]
  },
  {
   "cell_type": "markdown",
   "id": "2c0c134a",
   "metadata": {},
   "source": [
    "frames = [email_people[email_people[\"index\"] < 10],\n",
    "          pd.DataFrame({\"index\":\"...\",\"Name\":\"...\",\"Sent\":0,\"Received\":0,\"Total\":0,\"is_culprit\":False,\"Rank\":11},index=[11]),\n",
    "          email_people[email_people.Name == \"50 - Kenneth Lay\"],\n",
    "          pd.DataFrame({\"index\":\"...\",\"Name\":\" ...\",\"Sent\":0,\"Received\":0,\"Total\":0,\"is_culprit\":False,\"Rank\":60},index=[60]),\n",
    "          email_people[email_people[\"Rank\"] > 89]]\n",
    "culprit = pd.concat(frames)"
   ]
  },
  {
   "cell_type": "code",
   "execution_count": 582,
   "id": "37a2c430",
   "metadata": {},
   "outputs": [
    {
     "data": {
      "text/html": [
       "\n",
       "<div id=\"altair-viz-b36c9563abce4493a18e2c3b388957d4\"></div>\n",
       "<script type=\"text/javascript\">\n",
       "  var VEGA_DEBUG = (typeof VEGA_DEBUG == \"undefined\") ? {} : VEGA_DEBUG;\n",
       "  (function(spec, embedOpt){\n",
       "    let outputDiv = document.currentScript.previousElementSibling;\n",
       "    if (outputDiv.id !== \"altair-viz-b36c9563abce4493a18e2c3b388957d4\") {\n",
       "      outputDiv = document.getElementById(\"altair-viz-b36c9563abce4493a18e2c3b388957d4\");\n",
       "    }\n",
       "    const paths = {\n",
       "      \"vega\": \"https://cdn.jsdelivr.net/npm//vega@5?noext\",\n",
       "      \"vega-lib\": \"https://cdn.jsdelivr.net/npm//vega-lib?noext\",\n",
       "      \"vega-lite\": \"https://cdn.jsdelivr.net/npm//vega-lite@4.17.0?noext\",\n",
       "      \"vega-embed\": \"https://cdn.jsdelivr.net/npm//vega-embed@6?noext\",\n",
       "    };\n",
       "\n",
       "    function maybeLoadScript(lib, version) {\n",
       "      var key = `${lib.replace(\"-\", \"\")}_version`;\n",
       "      return (VEGA_DEBUG[key] == version) ?\n",
       "        Promise.resolve(paths[lib]) :\n",
       "        new Promise(function(resolve, reject) {\n",
       "          var s = document.createElement('script');\n",
       "          document.getElementsByTagName(\"head\")[0].appendChild(s);\n",
       "          s.async = true;\n",
       "          s.onload = () => {\n",
       "            VEGA_DEBUG[key] = version;\n",
       "            return resolve(paths[lib]);\n",
       "          };\n",
       "          s.onerror = () => reject(`Error loading script: ${paths[lib]}`);\n",
       "          s.src = paths[lib];\n",
       "        });\n",
       "    }\n",
       "\n",
       "    function showError(err) {\n",
       "      outputDiv.innerHTML = `<div class=\"error\" style=\"color:red;\">${err}</div>`;\n",
       "      throw err;\n",
       "    }\n",
       "\n",
       "    function displayChart(vegaEmbed) {\n",
       "      vegaEmbed(outputDiv, spec, embedOpt)\n",
       "        .catch(err => showError(`Javascript Error: ${err.message}<br>This usually means there's a typo in your chart specification. See the javascript console for the full traceback.`));\n",
       "    }\n",
       "\n",
       "    if(typeof define === \"function\" && define.amd) {\n",
       "      requirejs.config({paths});\n",
       "      require([\"vega-embed\"], displayChart, err => showError(`Error loading script: ${err.message}`));\n",
       "    } else {\n",
       "      maybeLoadScript(\"vega\", \"5\")\n",
       "        .then(() => maybeLoadScript(\"vega-lite\", \"4.17.0\"))\n",
       "        .then(() => maybeLoadScript(\"vega-embed\", \"6\"))\n",
       "        .catch(showError)\n",
       "        .then(() => displayChart(vegaEmbed));\n",
       "    }\n",
       "  })({\"config\": {\"view\": {\"continuousWidth\": 400, \"continuousHeight\": 300}, \"axis\": {\"labelFontSize\": 16, \"titleFontSize\": 16}, \"legend\": {\"labelFontSize\": 16, \"titleFontSize\": 16}, \"range\": {\"category\": {\"scheme\": \"dark2\"}}, \"title\": {\"fontSize\": 20}}, \"data\": {\"name\": \"data-73150a781d1d826180dff688c1c34bab\"}, \"mark\": \"bar\", \"encoding\": {\"color\": {\"field\": \"is_culprit\", \"title\": \"Is culprit?\", \"type\": \"nominal\"}, \"x\": {\"field\": \"Total\", \"title\": \"Total emails sent/received\", \"type\": \"quantitative\"}, \"y\": {\"axis\": {\"labelLimit\": 250}, \"field\": \"Name\", \"sort\": {\"field\": \"Rank\", \"order\": \"ascending\"}, \"title\": null, \"type\": \"nominal\"}}, \"height\": 600, \"title\": \"Top 20 email accounts by total emails sent/received during scandal\", \"width\": 800, \"$schema\": \"https://vega.github.io/schema/vega-lite/v4.17.0.json\", \"datasets\": {\"data-73150a781d1d826180dff688c1c34bab\": [{\"index\": 0, \"Name\": \"1 - All Enron Worldwide@ENRON\", \"Sent\": 0.0, \"Received\": 1546.0, \"Total\": 1546.0, \"is_culprit\": false, \"Rank\": 1}, {\"index\": 1, \"Name\": \"2 - All Enron Houston@ENRON\", \"Sent\": 0.0, \"Received\": 1031.0, \"Total\": 1031.0, \"is_culprit\": false, \"Rank\": 2}, {\"index\": 2, \"Name\": \"3 - Louise Kitchen\", \"Sent\": 22.0, \"Received\": 991.0, \"Total\": 1013.0, \"is_culprit\": false, \"Rank\": 3}, {\"index\": 3, \"Name\": \"4 - Richard Shapiro\", \"Sent\": 11.0, \"Received\": 945.0, \"Total\": 956.0, \"is_culprit\": false, \"Rank\": 4}, {\"index\": 4, \"Name\": \"5 - John Arnold\", \"Sent\": 263.0, \"Received\": 629.0, \"Total\": 892.0, \"is_culprit\": false, \"Rank\": 5}, {\"index\": 5, \"Name\": \"6 - Jeff Dasovich\", \"Sent\": 11.0, \"Received\": 795.0, \"Total\": 806.0, \"is_culprit\": false, \"Rank\": 6}, {\"index\": 6, \"Name\": \"7 - James D. Steffes\", \"Sent\": 14.0, \"Received\": 690.0, \"Total\": 704.0, \"is_culprit\": false, \"Rank\": 7}, {\"index\": 7, \"Name\": \"8 - John Lavorato\", \"Sent\": 69.0, \"Received\": 604.0, \"Total\": 673.0, \"is_culprit\": false, \"Rank\": 8}, {\"index\": 8, \"Name\": \"9 - Pete Davis\", \"Sent\": 20.0, \"Received\": 632.0, \"Total\": 652.0, \"is_culprit\": false, \"Rank\": 9}, {\"index\": 9, \"Name\": \"10 - Bert Meyers\", \"Sent\": 0.0, \"Received\": 633.0, \"Total\": 633.0, \"is_culprit\": false, \"Rank\": 10}, {\"index\": 10, \"Name\": \"11 - Marie Heard\", \"Sent\": 21.0, \"Received\": 598.0, \"Total\": 619.0, \"is_culprit\": false, \"Rank\": 11}, {\"index\": 11, \"Name\": \"12 - Houston Outage Report@ENRON\", \"Sent\": 0.0, \"Received\": 604.0, \"Total\": 604.0, \"is_culprit\": false, \"Rank\": 12}, {\"index\": 12, \"Name\": \"13 - Chuck Ames\", \"Sent\": 1.0, \"Received\": 602.0, \"Total\": 603.0, \"is_culprit\": false, \"Rank\": 13}, {\"index\": 13, \"Name\": \"14 - Kenneth Lay\", \"Sent\": 2.0, \"Received\": 597.0, \"Total\": 599.0, \"is_culprit\": true, \"Rank\": 14}, {\"index\": 14, \"Name\": \"15 - Rod Hayslett\", \"Sent\": 10.0, \"Received\": 585.0, \"Total\": 595.0, \"is_culprit\": false, \"Rank\": 15}, {\"index\": 15, \"Name\": \"16 - Sara Shackleton\", \"Sent\": 133.0, \"Received\": 452.0, \"Total\": 585.0, \"is_culprit\": false, \"Rank\": 16}, {\"index\": 16, \"Name\": \"17 - Phillip K. Allen\", \"Sent\": 3.0, \"Received\": 566.0, \"Total\": 569.0, \"is_culprit\": false, \"Rank\": 17}, {\"index\": 17, \"Name\": \"18 - Mike Maggi\", \"Sent\": 32.0, \"Received\": 518.0, \"Total\": 550.0, \"is_culprit\": false, \"Rank\": 18}, {\"index\": 18, \"Name\": \"19 - Taylor\", \"Sent\": 7.0, \"Received\": 520.0, \"Total\": 527.0, \"is_culprit\": false, \"Rank\": 19}, {\"index\": 19, \"Name\": \"20 - Tracy Geaccone\", \"Sent\": 0.0, \"Received\": 526.0, \"Total\": 526.0, \"is_culprit\": false, \"Rank\": 20}]}}, {\"mode\": \"vega-lite\"});\n",
       "</script>"
      ],
      "text/plain": [
       "alt.Chart(...)"
      ]
     },
     "execution_count": 582,
     "metadata": {},
     "output_type": "execute_result"
    }
   ],
   "source": [
    "# Import data\n",
    "culprit = pd.read_csv(\"culprit.csv\")\n",
    "# Draw chart\n",
    "alt.Chart(culprit, title=\"Top 20 email accounts by total emails sent/received during scandal\").mark_bar().encode(\n",
    "    y=alt.Y(\"Name:N\", sort=alt.EncodingSortField(field=\"Rank\", order='ascending'),\n",
    "            axis=alt.Axis(labelLimit=250), title=None),\n",
    "    x=alt.X('Total:Q', title=\"Total emails sent/received\"),\n",
    "    color=alt.Color('is_culprit', title=\"Is culprit?\")\n",
    ").properties(width=800, height=600).configure_axis(\n",
    "    labelFontSize=16,\n",
    "    titleFontSize=16).configure_range(\n",
    "    category={'scheme': 'dark2'}\n",
    ").configure_title(fontSize=20).configure_legend(\n",
    "titleFontSize=16,\n",
    "labelFontSize=16\n",
    ")"
   ]
  },
  {
   "cell_type": "markdown",
   "id": "1e8a9d8a",
   "metadata": {},
   "source": [
    "It is not suprising to see that CEO Kenneth Lay was among the Top 20 email authors and recipients. However, again we do not find neither his colleagues Jeffrey Skilling nor Andrew Fastow on the list and even among the Top 100 they are not seen. This again seems noteworthy given that both were highly involved in the fraud. Aside this, we also see two company mailings lists at the top which is most likely the company-wide communication of management to their employees and replies to those emails. Louise Kitchen and Richard Shapiro had been the most communicative persons in the company. However, we did not recognize them in the network chart which might suggest that although many emails were sent and received, they did not seem to have the range and connections others like John Arnold and Jeff Dasovich had."
   ]
  },
  {
   "cell_type": "markdown",
   "id": "df0a2b76",
   "metadata": {},
   "source": [
    "# Import count_from_to\n",
    "count_from_to = pd.read_csv('count_from_to.csv')\n",
    "\n",
    "# Remove people with less than x emails\n",
    "count_from_to_5 = count_from_to[count_from_to.email_count > 10]\n",
    "\n",
    "alt.Chart(count_from_to_5).mark_circle(\n",
    "    stroke='black'\n",
    ").encode(\n",
    "    x='to:N',\n",
    "    y='from:N',\n",
    "    size='email_count:Q',\n",
    "    tooltip='email_count:Q',\n",
    "    fillOpacity=alt.FillOpacity(\n",
    "        'email_count:Q',\n",
    "        #scale=alt.Scale(domain=[fill_threshold, fill_threshold + 0.01],range=[0 ,1])\n",
    "    )\n",
    ").interactive()"
   ]
  }
 ],
 "metadata": {
  "kernelspec": {
   "display_name": "Python 3 (ipykernel)",
   "language": "python",
   "name": "python3"
  },
  "language_info": {
   "codemirror_mode": {
    "name": "ipython",
    "version": 3
   },
   "file_extension": ".py",
   "mimetype": "text/x-python",
   "name": "python",
   "nbconvert_exporter": "python",
   "pygments_lexer": "ipython3",
   "version": "3.9.7"
  }
 },
 "nbformat": 4,
 "nbformat_minor": 5
}
